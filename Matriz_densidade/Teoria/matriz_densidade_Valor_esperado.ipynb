{
 "cells": [
  {
   "cell_type": "code",
   "execution_count": 2,
   "id": "476aa0ba",
   "metadata": {},
   "outputs": [],
   "source": [
    "import numpy as np\n",
    "from qiskit import QuantumCircuit\n",
    "from qiskit_aer import AerSimulator\n",
    "from qiskit.quantum_info import Pauli, Statevector"
   ]
  },
  {
   "cell_type": "markdown",
   "id": "3049649c",
   "metadata": {},
   "source": [
    "$$\n",
    "\\rho = \\tfrac{1}{2}\\Big( I + \\langle X \\rangle X + \\langle Y \\rangle Y + \\langle Z \\rangle Z \\Big)\n",
    "$$"
   ]
  },
  {
   "cell_type": "code",
   "execution_count": 3,
   "id": "dc4574d6",
   "metadata": {},
   "outputs": [
    {
     "name": "stdout",
     "output_type": "stream",
     "text": [
      "⟨X⟩, ⟨Y⟩, ⟨Z⟩ = 0.9999999999999998 0.0 0.0\n",
      "Matriz densidade reconstruída:\n",
      " [[0.5+0.j 0.5+0.j]\n",
      " [0.5+0.j 0.5+0.j]]\n"
     ]
    }
   ],
   "source": [
    "# Circuito: coloca em |+>\n",
    "qc = QuantumCircuit(1)\n",
    "qc.h(0)\n",
    "\n",
    "# Estado puro\n",
    "psi = Statevector.from_instruction(qc)\n",
    "\n",
    "# Valores esperados\n",
    "expX = np.real(psi.expectation_value(Pauli(\"X\")))\n",
    "expY = np.real(psi.expectation_value(Pauli(\"Y\")))\n",
    "expZ = np.real(psi.expectation_value(Pauli(\"Z\")))\n",
    "\n",
    "# Matriz densidade pela fórmula\n",
    "I = np.eye(2)\n",
    "X = np.array([[0, 1], [1, 0]])\n",
    "Y = np.array([[0, -1j], [1j, 0]])\n",
    "Z = np.array([[1, 0], [0, -1]])\n",
    "\n",
    "rho = 0.5 * (I + expX*X + expY*Y + expZ*Z)\n",
    "\n",
    "print(\"⟨X⟩, ⟨Y⟩, ⟨Z⟩ =\", expX, expY, expZ)\n",
    "print(\"Matriz densidade reconstruída:\\n\", rho)"
   ]
  }
 ],
 "metadata": {
  "kernelspec": {
   "display_name": "cwq",
   "language": "python",
   "name": "python3"
  },
  "language_info": {
   "codemirror_mode": {
    "name": "ipython",
    "version": 3
   },
   "file_extension": ".py",
   "mimetype": "text/x-python",
   "name": "python",
   "nbconvert_exporter": "python",
   "pygments_lexer": "ipython3",
   "version": "3.12.11"
  }
 },
 "nbformat": 4,
 "nbformat_minor": 5
}
