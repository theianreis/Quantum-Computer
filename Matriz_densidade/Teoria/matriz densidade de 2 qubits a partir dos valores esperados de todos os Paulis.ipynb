{
 "cells": [
  {
   "cell_type": "code",
   "execution_count": 1,
   "id": "2578164c",
   "metadata": {},
   "outputs": [],
   "source": [
    "import numpy as np\n",
    "from itertools import product\n",
    "from qiskit import QuantumCircuit\n",
    "from qiskit.quantum_info import Pauli, Statevector"
   ]
  },
  {
   "cell_type": "markdown",
   "id": "cb84009b",
   "metadata": {},
   "source": [
    "$$\n",
    "\\rho = \\tfrac{1}{4} \\sum_{P \\in \\{I, X, Y, Z\\}^{\\otimes 2}} \\langle P \\rangle \\, P\n",
    "$$"
   ]
  },
  {
   "cell_type": "code",
   "execution_count": 2,
   "id": "050f4b11",
   "metadata": {},
   "outputs": [
    {
     "name": "stdout",
     "output_type": "stream",
     "text": [
      "Valores esperados:\n",
      "⟨II⟩ = 1.00\n",
      "⟨IX⟩ = 0.00\n",
      "⟨IY⟩ = 0.00\n",
      "⟨IZ⟩ = 0.00\n",
      "⟨XI⟩ = 0.00\n",
      "⟨XX⟩ = 1.00\n",
      "⟨XY⟩ = 0.00\n",
      "⟨XZ⟩ = 0.00\n",
      "⟨YI⟩ = 0.00\n",
      "⟨YX⟩ = 0.00\n",
      "⟨YY⟩ = -1.00\n",
      "⟨YZ⟩ = 0.00\n",
      "⟨ZI⟩ = 0.00\n",
      "⟨ZX⟩ = 0.00\n",
      "⟨ZY⟩ = 0.00\n",
      "⟨ZZ⟩ = 1.00\n",
      "\n",
      "Matriz densidade reconstruída:\n",
      "[[0.5+0.j 0. +0.j 0. +0.j 0.5+0.j]\n",
      " [0. +0.j 0. +0.j 0. +0.j 0. +0.j]\n",
      " [0. +0.j 0. +0.j 0. +0.j 0. +0.j]\n",
      " [0.5+0.j 0. +0.j 0. +0.j 0.5+0.j]]\n"
     ]
    }
   ],
   "source": [
    "# ----------------------------\n",
    "# Função: reconstrói rho de n qubits\n",
    "# ----------------------------\n",
    "def reconstruct_density_matrix(qc, n):\n",
    "    psi = Statevector.from_instruction(qc)\n",
    "    paulis = [\"I\", \"X\", \"Y\", \"Z\"]\n",
    "\n",
    "    # dicionário para armazenar ⟨P⟩\n",
    "    expectations = {}\n",
    "    rho = np.zeros((2**n, 2**n), dtype=complex)\n",
    "\n",
    "    for term in product(paulis, repeat=n):\n",
    "        label = \"\".join(term)   # Ex: \"XZ\"\n",
    "        P = Pauli(label)\n",
    "        exp_val = np.real(psi.expectation_value(P))\n",
    "        expectations[label] = exp_val\n",
    "\n",
    "        # matriz do operador Pauli\n",
    "        P_matrix = P.to_matrix()\n",
    "        rho += exp_val * P_matrix\n",
    "\n",
    "    rho = rho / (2**n)\n",
    "    return rho, expectations\n",
    "\n",
    "\n",
    "# ----------------------------\n",
    "# Exemplo: estado Bell (|00>+|11>)/√2\n",
    "# ----------------------------\n",
    "qc = QuantumCircuit(2)\n",
    "qc.h(0)\n",
    "qc.cx(0, 1)\n",
    "\n",
    "rho, exps = reconstruct_density_matrix(qc, 2)\n",
    "\n",
    "print(\"Valores esperados:\")\n",
    "for k,v in exps.items():\n",
    "    print(f\"⟨{k}⟩ = {v:.2f}\")\n",
    "\n",
    "print(\"\\nMatriz densidade reconstruída:\")\n",
    "print(np.round(rho, 3))\n"
   ]
  }
 ],
 "metadata": {
  "kernelspec": {
   "display_name": "cwq",
   "language": "python",
   "name": "python3"
  },
  "language_info": {
   "codemirror_mode": {
    "name": "ipython",
    "version": 3
   },
   "file_extension": ".py",
   "mimetype": "text/x-python",
   "name": "python",
   "nbconvert_exporter": "python",
   "pygments_lexer": "ipython3",
   "version": "3.12.11"
  }
 },
 "nbformat": 4,
 "nbformat_minor": 5
}
