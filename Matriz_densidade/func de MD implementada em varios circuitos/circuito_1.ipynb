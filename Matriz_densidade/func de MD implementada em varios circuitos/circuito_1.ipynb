{
 "cells": [
  {
   "cell_type": "code",
   "execution_count": 2,
   "id": "cc89a122",
   "metadata": {},
   "outputs": [],
   "source": [
    "from qiskit import *\n",
    "from Density_Matrix import DensityMatrix"
   ]
  },
  {
   "cell_type": "code",
   "execution_count": 5,
   "id": "41bb5d9d",
   "metadata": {},
   "outputs": [
    {
     "data": {
      "text/plain": [
       "<qiskit.circuit.instructionset.InstructionSet at 0x1b6665072e0>"
      ]
     },
     "execution_count": 5,
     "metadata": {},
     "output_type": "execute_result"
    }
   ],
   "source": [
    "circuit = QuantumCircuit(1)\n",
    "circuit.x(0)\n",
    "circuit.z(0)"
   ]
  },
  {
   "cell_type": "code",
   "execution_count": 7,
   "id": "aa633410",
   "metadata": {},
   "outputs": [
    {
     "name": "stdout",
     "output_type": "stream",
     "text": [
      "[0.0, 0.0, -1.0]\n",
      "[[0.+0.j 0.+0.j]\n",
      " [0.+0.j 1.+0.j]]\n"
     ]
    }
   ],
   "source": [
    "rho, exp_value = DensityMatrix(my_circuit=circuit)\n",
    "print(exp_value)\n",
    "print(rho)"
   ]
  }
 ],
 "metadata": {
  "kernelspec": {
   "display_name": "cwq",
   "language": "python",
   "name": "python3"
  },
  "language_info": {
   "codemirror_mode": {
    "name": "ipython",
    "version": 3
   },
   "file_extension": ".py",
   "mimetype": "text/x-python",
   "name": "python",
   "nbconvert_exporter": "python",
   "pygments_lexer": "ipython3",
   "version": "3.12.11"
  }
 },
 "nbformat": 4,
 "nbformat_minor": 5
}
