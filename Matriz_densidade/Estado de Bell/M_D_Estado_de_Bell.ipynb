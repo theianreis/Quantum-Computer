{
 "cells": [
  {
   "cell_type": "code",
   "execution_count": 1,
   "id": "edcdcfc1",
   "metadata": {},
   "outputs": [
    {
     "name": "stdout",
     "output_type": "stream",
     "text": [
      "Alguns valores esperados relevantes:\n",
      "XX  1.000\n",
      "YY -1.000\n",
      "ZZ  1.000\n",
      "XI  0.000\n",
      "IX  0.000\n",
      "ZI  0.000\n",
      "IZ  0.000\n",
      "YY -1.000\n",
      "XY  0.000\n",
      "YX  0.000\n",
      "\n",
      "ρ reconstruída:\n",
      "[[0.5+0.j 0. +0.j 0. +0.j 0.5+0.j]\n",
      " [0. +0.j 0. +0.j 0. +0.j 0. +0.j]\n",
      " [0. +0.j 0. +0.j 0. +0.j 0. +0.j]\n",
      " [0.5+0.j 0. +0.j 0. +0.j 0.5+0.j]]\n"
     ]
    }
   ],
   "source": [
    "import numpy as np\n",
    "from itertools import product\n",
    "from qiskit import QuantumCircuit\n",
    "from qiskit.quantum_info import Pauli, Statevector\n",
    "\n",
    "def reconstruct_rho_from_statevector(qc):\n",
    "    psi = Statevector.from_instruction(qc)\n",
    "    n = qc.num_qubits\n",
    "    paulis = [\"I\",\"X\",\"Y\",\"Z\"]\n",
    "    rho = np.zeros((2**n, 2**n), dtype=complex)\n",
    "    exps = {}\n",
    "    for term in product(paulis, repeat=n):\n",
    "        label = \"\".join(term)  # ex.: \"XZ\"\n",
    "        P = Pauli(label)\n",
    "        exp = np.real(psi.expectation_value(P))\n",
    "        exps[label] = float(exp)\n",
    "        rho += exp * P.to_matrix()\n",
    "    rho /= (2**n)\n",
    "    return rho, exps\n",
    "\n",
    "# Circuito Bell |Φ+>\n",
    "qc = QuantumCircuit(2)\n",
    "qc.h(0)\n",
    "qc.cx(0,1)\n",
    "\n",
    "rho, exps = reconstruct_rho_from_statevector(qc)\n",
    "\n",
    "print(\"Alguns valores esperados relevantes:\")\n",
    "for k in [\"XX\",\"YY\",\"ZZ\",\"XI\",\"IX\",\"ZI\",\"IZ\",\"YY\",\"XY\",\"YX\"]:\n",
    "    print(k, f\"{exps[k]: .3f}\")\n",
    "print(\"\\nρ reconstruída:\")\n",
    "print(np.round(rho, 3))\n"
   ]
  }
 ],
 "metadata": {
  "kernelspec": {
   "display_name": "cwq",
   "language": "python",
   "name": "python3"
  },
  "language_info": {
   "codemirror_mode": {
    "name": "ipython",
    "version": 3
   },
   "file_extension": ".py",
   "mimetype": "text/x-python",
   "name": "python",
   "nbconvert_exporter": "python",
   "pygments_lexer": "ipython3",
   "version": "3.12.11"
  }
 },
 "nbformat": 4,
 "nbformat_minor": 5
}
