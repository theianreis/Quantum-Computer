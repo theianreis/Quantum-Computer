{
 "cells": [
  {
   "cell_type": "code",
   "execution_count": 5,
   "id": "296e5d6c",
   "metadata": {},
   "outputs": [],
   "source": [
    "from qutip import Qobj"
   ]
  },
  {
   "cell_type": "markdown",
   "id": "a982add2",
   "metadata": {},
   "source": [
    "## Objetos Quânticos"
   ]
  },
  {
   "cell_type": "code",
   "execution_count": null,
   "id": "611345ca",
   "metadata": {},
   "outputs": [
    {
     "name": "stdout",
     "output_type": "stream",
     "text": [
      "Quantum object: dims=[[2], [1]], shape=(2, 1), type='ket', dtype=Dense\n",
      "Qobj data =\n",
      "[[1.]\n",
      " [0.]]\n",
      "Quantum object: dims=[[2], [1]], shape=(2, 1), type='ket', dtype=Dense\n",
      "Qobj data =\n",
      "[[0.]\n",
      " [1.]]\n"
     ]
    }
   ],
   "source": [
    "## Create quatum objcet\n",
    "\n",
    "ket_0 , ket_1 = Qobj([[1],[0]]) , Qobj([[0],[1]])\n",
    "\n",
    "print(ket_0)\n",
    "print(ket_1)"
   ]
  },
  {
   "cell_type": "code",
   "execution_count": null,
   "id": "3a827fbc",
   "metadata": {},
   "outputs": [
    {
     "name": "stdout",
     "output_type": "stream",
     "text": [
      "Dimensão:  [[2], [1]]\n",
      "\n",
      " shape:  (2, 1)\n",
      "\n",
      " Dados:  Dense(shape=(2, 1), fortran=True)\n",
      "\n",
      " Matriz Densidade:  <bound method Qobj.full of Quantum object: dims=[[2], [1]], shape=(2, 1), type='ket', dtype=Dense\n",
      "Qobj data =\n",
      "[[1.]\n",
      " [0.]]>\n",
      "\n",
      " Propriedades Add:  ket\n"
     ]
    }
   ],
   "source": [
    "## Informações do sistema \n",
    "\n",
    "print(\"Dimensão: \",ket_0.dims)\n",
    "print(\"\\n shape: \", ket_0.shape)\n",
    "print(\"\\n Dados: \",ket_0.data)\n",
    "print(\"\\n Matriz Densidade: \",ket_0.full)\n",
    "print(\"\\n Propriedades Add: \", ket_0.type)"
   ]
  },
  {
   "cell_type": "code",
   "execution_count": 20,
   "id": "caa632f4",
   "metadata": {},
   "outputs": [],
   "source": [
    "## Definição de operadores\n",
    "\n",
    "sx = Qobj([[0,1],[1,0]])\n",
    "sy = Qobj([[0,-1j],[1j,0]])\n",
    "sz = Qobj([[1,0],[0,-1]])"
   ]
  },
  {
   "cell_type": "code",
   "execution_count": 21,
   "id": "4fad666d",
   "metadata": {},
   "outputs": [
    {
     "name": "stdout",
     "output_type": "stream",
     "text": [
      "Qubit Hamiltonian:  Quantum object: dims=[[2], [2]], shape=(2, 2), type='oper', dtype=Dense, isherm=True\n",
      "Qobj data =\n",
      "[[ 1.+0.j   0.-0.1j]\n",
      " [ 0.+0.1j -1.+0.j ]]\n"
     ]
    }
   ],
   "source": [
    "## Hamiltoniana(Soma aritmética com objetos quântico)\n",
    "\n",
    "H = 1.0*sz + 0.1 * sy\n",
    "print(\"Qubit Hamiltonian: \",H)"
   ]
  },
  {
   "cell_type": "code",
   "execution_count": null,
   "id": "8fed2b56",
   "metadata": {},
   "outputs": [
    {
     "data": {
      "text/plain": [
       "array([-1.00498756,  1.00498756])"
      ]
     },
     "execution_count": 22,
     "metadata": {},
     "output_type": "execute_result"
    }
   ],
   "source": [
    "sy_dager=sy.dag()\n",
    "traco_Hamiltoniana = H.tr()\n",
    "Autovalores = H.eigenenergies()"
   ]
  }
 ],
 "metadata": {
  "kernelspec": {
   "display_name": "cwq",
   "language": "python",
   "name": "python3"
  },
  "language_info": {
   "codemirror_mode": {
    "name": "ipython",
    "version": 3
   },
   "file_extension": ".py",
   "mimetype": "text/x-python",
   "name": "python",
   "nbconvert_exporter": "python",
   "pygments_lexer": "ipython3",
   "version": "3.13.2"
  }
 },
 "nbformat": 4,
 "nbformat_minor": 5
}
