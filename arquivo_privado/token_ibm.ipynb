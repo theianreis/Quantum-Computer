{
 "cells": [
  {
   "cell_type": "markdown",
   "id": "950ac5a2",
   "metadata": {},
   "source": [
    "## Acessar o computador da IBM\n",
    "\n",
    "- lib do qiskit --> ponte\n",
    "- token API"
   ]
  },
  {
   "cell_type": "code",
   "execution_count": 1,
   "id": "f5edd52f",
   "metadata": {},
   "outputs": [],
   "source": [
    "from qiskit_ibm_runtime import QiskitRuntimeService"
   ]
  },
  {
   "cell_type": "code",
   "execution_count": null,
   "id": "272bf3e9",
   "metadata": {},
   "outputs": [
    {
     "ename": "NameError",
     "evalue": "name 'QiskitRuntimeService' is not defined",
     "output_type": "error",
     "traceback": [
      "\u001b[31m---------------------------------------------------------------------------\u001b[39m",
      "\u001b[31mNameError\u001b[39m                                 Traceback (most recent call last)",
      "\u001b[36mCell\u001b[39m\u001b[36m \u001b[39m\u001b[32mIn[3]\u001b[39m\u001b[32m, line 2\u001b[39m\n\u001b[32m      1\u001b[39m \u001b[38;5;66;03m# Remove sua conta local (só afeta seu computador)\u001b[39;00m\n\u001b[32m----> \u001b[39m\u001b[32m2\u001b[39m \u001b[43mQiskitRuntimeService\u001b[49m.delete_account()\n",
      "\u001b[31mNameError\u001b[39m: name 'QiskitRuntimeService' is not defined"
     ]
    }
   ],
   "source": [
    "# Remove sua conta local (só afeta seu computador)\n",
    "#QiskitRuntimeService.delete_account()"
   ]
  },
  {
   "cell_type": "code",
   "execution_count": 2,
   "id": "d9c4811c",
   "metadata": {},
   "outputs": [],
   "source": [
    "service = QiskitRuntimeService(\n",
    "    channel=\"ibm_cloud\",\n",
    "    token=\"tiiCZyF0j7F0EQzZqxt77n-3yvVFzrGHRFY7ChUMWqpt\",\n",
    "    instance=\"crn:v1:bluemix:public:quantum-computing:us-east:a/2c29af4677414935aedd36977aacf8e4:a9664938-9945-4498-9464-26d0281168b5::\"\n",
    ")\n"
   ]
  },
  {
   "cell_type": "code",
   "execution_count": 6,
   "id": "f789a007",
   "metadata": {},
   "outputs": [],
   "source": [
    "QiskitRuntimeService.save_account(\n",
    "    token=\"tiiCZyF0j7F0EQzZqxt77n-3yvVFzrGHRFY7ChUMWqpt\", \n",
    "    overwrite=True\n",
    ")"
   ]
  },
  {
   "cell_type": "code",
   "execution_count": 7,
   "id": "82dcc05d",
   "metadata": {},
   "outputs": [
    {
     "name": "stderr",
     "output_type": "stream",
     "text": [
      "qiskit_runtime_service._resolve_cloud_instances:WARNING:2025-07-07 11:59:57,042: Default instance not set. Searching all available instances.\n"
     ]
    },
    {
     "name": "stdout",
     "output_type": "stream",
     "text": [
      "[<IBMBackend('ibm_brisbane')>, <IBMBackend('ibm_sherbrooke')>, <IBMBackend('ibm_torino')>]\n"
     ]
    }
   ],
   "source": [
    "service = QiskitRuntimeService()\n",
    "print(service.backends())"
   ]
  },
  {
   "cell_type": "code",
   "execution_count": 8,
   "id": "9879dd39",
   "metadata": {},
   "outputs": [
    {
     "data": {
      "text/plain": [
       "['switch_case',\n",
       " 'x',\n",
       " 'rz',\n",
       " 'sx',\n",
       " 'for_loop',\n",
       " 'if_else',\n",
       " 'measure',\n",
       " 'ecr',\n",
       " 'id',\n",
       " 'delay',\n",
       " 'reset']"
      ]
     },
     "execution_count": 8,
     "metadata": {},
     "output_type": "execute_result"
    }
   ],
   "source": [
    "backend = service.backend(name = \"ibm_sherbrooke\")\n",
    "backend.operation_names"
   ]
  }
 ],
 "metadata": {
  "kernelspec": {
   "display_name": "cwq",
   "language": "python",
   "name": "python3"
  },
  "language_info": {
   "codemirror_mode": {
    "name": "ipython",
    "version": 3
   },
   "file_extension": ".py",
   "mimetype": "text/x-python",
   "name": "python",
   "nbconvert_exporter": "python",
   "pygments_lexer": "ipython3",
   "version": "3.13.2"
  }
 },
 "nbformat": 4,
 "nbformat_minor": 5
}
