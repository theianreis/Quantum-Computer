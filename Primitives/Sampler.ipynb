{
 "cells": [
  {
   "cell_type": "markdown",
   "id": "ce042474",
   "metadata": {},
   "source": [
    "### Retornar seq de bits samplers a partir da distribuição e probabilidade do estado quântico"
   ]
  }
 ],
 "metadata": {
  "language_info": {
   "name": "python"
  }
 },
 "nbformat": 4,
 "nbformat_minor": 5
}
