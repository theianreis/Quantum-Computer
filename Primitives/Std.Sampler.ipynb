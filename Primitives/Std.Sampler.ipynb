{
 "cells": [
  {
   "cell_type": "markdown",
   "id": "b8cd6844",
   "metadata": {},
   "source": [
    "## Sampler: \n",
    "A função principal do sampler é calcular probabilidades aproximadas dos resultados das medições de um circuito quântico, com base em múltiplas execuções."
   ]
  },
  {
   "cell_type": "code",
   "execution_count": 1,
   "id": "773f44ea",
   "metadata": {},
   "outputs": [
    {
     "ename": "TypeError",
     "evalue": "BackendSamplerV2.__init__() missing 1 required keyword-only argument: 'backend'",
     "output_type": "error",
     "traceback": [
      "\u001b[31m---------------------------------------------------------------------------\u001b[39m",
      "\u001b[31mTypeError\u001b[39m                                 Traceback (most recent call last)",
      "\u001b[36mCell\u001b[39m\u001b[36m \u001b[39m\u001b[32mIn[1]\u001b[39m\u001b[32m, line 11\u001b[39m\n\u001b[32m      8\u001b[39m qc.measure_all()\n\u001b[32m     10\u001b[39m \u001b[38;5;66;03m# Cria o sampler e executa\u001b[39;00m\n\u001b[32m---> \u001b[39m\u001b[32m11\u001b[39m sampler = \u001b[43mSampler\u001b[49m\u001b[43m(\u001b[49m\u001b[43m)\u001b[49m\n\u001b[32m     12\u001b[39m result = sampler.run(circuits=[qc]).result()\n\u001b[32m     14\u001b[39m \u001b[38;5;66;03m# Exibe as probabilidades estimadas\u001b[39;00m\n",
      "\u001b[31mTypeError\u001b[39m: BackendSamplerV2.__init__() missing 1 required keyword-only argument: 'backend'"
     ]
    }
   ],
   "source": [
    "from qiskit import QuantumCircuit\n",
    "from qiskit.primitives import BackendSamplerV2 as Sampler\n",
    "\n",
    "# Cria um circuito simples\n",
    "qc = QuantumCircuit(2)\n",
    "qc.h(0)\n",
    "qc.cx(0, 1)\n",
    "qc.measure_all()\n",
    "\n",
    "# Cria o sampler e executa\n",
    "sampler = Sampler()\n",
    "result = sampler.run(circuits=[qc]).result()\n",
    "\n",
    "# Exibe as probabilidades estimadas\n",
    "print(result.quasi_dists[0])  # saída aproximada como {'00': 0.5, '11': 0.5}\n"
   ]
  }
 ],
 "metadata": {
  "kernelspec": {
   "display_name": "cwq",
   "language": "python",
   "name": "python3"
  },
  "language_info": {
   "codemirror_mode": {
    "name": "ipython",
    "version": 3
   },
   "file_extension": ".py",
   "mimetype": "text/x-python",
   "name": "python",
   "nbconvert_exporter": "python",
   "pygments_lexer": "ipython3",
   "version": "3.13.2"
  }
 },
 "nbformat": 4,
 "nbformat_minor": 5
}
