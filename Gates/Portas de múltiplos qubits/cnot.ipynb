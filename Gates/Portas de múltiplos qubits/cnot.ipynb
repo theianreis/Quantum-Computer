{
 "cells": [
  {
   "cell_type": "code",
   "execution_count": null,
   "id": "4e55b163",
   "metadata": {},
   "outputs": [],
   "source": [
    "from qiskit import *"
   ]
  },
  {
   "cell_type": "code",
   "execution_count": null,
   "id": "0cfd90e4",
   "metadata": {},
   "outputs": [],
   "source": [
    "circuit = QuantumCircuit(2)\n",
    "circuit.cx(0,1)"
   ]
  },
  {
   "cell_type": "markdown",
   "id": "ee172af3",
   "metadata": {},
   "source": [
    "$$\n",
    "CNOT = \\begin{bmatrix} \n",
    "1 & 0 & 0 & 0 \\\\\n",
    "0 & 1 & 0 & 0 \\\\\n",
    "0 & 0 & 0 & 1 \\\\\n",
    "0 & 0 & 1 & 0 \n",
    "\\end{bmatrix}\n",
    "$$"
   ]
  }
 ],
 "metadata": {
  "language_info": {
   "name": "python"
  }
 },
 "nbformat": 4,
 "nbformat_minor": 5
}
