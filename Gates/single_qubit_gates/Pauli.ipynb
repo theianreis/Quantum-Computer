{
 "cells": [
  {
   "cell_type": "markdown",
   "id": "7c61109c",
   "metadata": {},
   "source": [
    "## Portas de Pauli\n",
    "- As portas de Pauli são operadores quânticos fundamentais que correspondem às matrizes de Pauli, usadas para manipular qubits. Elas representam rotações discretas no espaço de estados quânticos\n",
    "\n",
    "### Importância:\n",
    "- Formam a base da álgebra de Lie SU(2), que rege a dinâmica de qubits de dois níveis.\n",
    "- Estão diretamente associadas à medição de spin em diferentes direções.\n",
    "- São hermitianas e unitárias, ou seja, válidas como operadores físicos e reversíveis.\n",
    "\n",
    "\n",
    "### Funcionalidades: \n",
    "- inversão de estados\n",
    "- manipulação de fase\n",
    "- criação de portas compostas\n",
    "- correção de erro\n",
    "\n",
    "### Representação matemáticas\n",
    "\n",
    "$$\n",
    "X = \\begin{bmatrix} 0 & 1 \\\\ 1 & 0 \\end{bmatrix}, \\quad\n",
    "Y = \\begin{bmatrix} 0 & -i \\\\ i & 0 \\end{bmatrix}, \\quad\n",
    "Z = \\begin{bmatrix} 1 & 0 \\\\ 0 & -1 \\end{bmatrix}\n",
    "$$\n",
    "\n",
    "### Exemplos de portas: \n",
    "- X: Rotação de $\\pi$ em torno do eixo x.É equivalente ao not Quântico \n",
    "- Y: Rotação de $\\pi$ em torno do eixo y. Aplica um flip com fase complexa\n",
    "- Z: Rotação de $\\pi$ em torno do eixo z. Aplica uma mudança de fase em 1 , mas não altera 0"
   ]
  },
  {
   "cell_type": "code",
   "execution_count": null,
   "id": "fd52ac8f",
   "metadata": {},
   "outputs": [],
   "source": []
  }
 ],
 "metadata": {
  "kernelspec": {
   "display_name": "cwq",
   "language": "python",
   "name": "python3"
  },
  "language_info": {
   "codemirror_mode": {
    "name": "ipython",
    "version": 3
   },
   "file_extension": ".py",
   "mimetype": "text/x-python",
   "name": "python",
   "nbconvert_exporter": "python",
   "pygments_lexer": "ipython3",
   "version": "3.13.2"
  }
 },
 "nbformat": 4,
 "nbformat_minor": 5
}
