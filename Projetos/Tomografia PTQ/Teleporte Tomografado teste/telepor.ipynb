{
 "cells": [
  {
   "cell_type": "code",
   "execution_count": 6,
   "id": "448bb2ab",
   "metadata": {},
   "outputs": [],
   "source": [
    "from qiskit import *\n",
    "from qiskit_aer import AerSimulator\n",
    "from qiskit_aer.noise import noise_model\n",
    "import numpy as np"
   ]
  },
  {
   "cell_type": "code",
   "execution_count": 45,
   "id": "bddc5b45",
   "metadata": {},
   "outputs": [],
   "source": [
    "## Tomografia\n",
    "\n",
    "import numpy as np\n",
    "from qiskit import *\n",
    "from qiskit_aer import AerSimulator\n",
    "\n",
    "pauli_list = [\n",
    "    np.eye(2),\n",
    "    np.array([[0.0, 1.0], [1.0, 0.0]]),\n",
    "    np.array([[0, -1.0j], [1.0j, 0.0]]),\n",
    "    np.array([[1.0, 0.0], [0.0, -1.0]]),\n",
    "]\n",
    "\n",
    "bases = {\n",
    "    'I': pauli_list[0],\n",
    "    'X': pauli_list[1],\n",
    "    'Y': pauli_list[2],\n",
    "    'Z': pauli_list[3],\n",
    "}\n",
    "\n",
    "backend = AerSimulator()\n",
    "\n",
    "def measurement_circuit(base,input_circuit, target):\n",
    "    circuit = input_circuit.copy()\n",
    "\n",
    "    if base == 'X':\n",
    "        circuit.h(target)\n",
    "    elif base == 'Y':\n",
    "        circuit.sdg(target)\n",
    "        circuit.h(target)\n",
    "\n",
    "    num_bits_c = circuit.num_clbits\n",
    "    circuit.measure(target, num_bits_c - 1)\n",
    "\n",
    "    return circuit\n",
    "\n",
    "def tomography(my_circuit, target, shots):\n",
    "    expectation_values = {}\n",
    "    all_counts = {}\n",
    "\n",
    "    for base in ['X', 'Y', 'Z']:\n",
    "        circ = measurement_circuit(base, my_circuit, target)  # mede target em um bit de c\n",
    "        transpiled = transpile(circ, backend)\n",
    "        result = backend.run(transpiled, shots=shots).result()\n",
    "        counts = result.get_counts()\n",
    "\n",
    "        # Pegamos o bit da tomografia\n",
    "        # Se a medição foi feita no último bit de 'c', esse é o primeiro caractere da string de bits\n",
    "        p0 = sum(cnt for bits, cnt in counts.items() if bits[0] == '0')\n",
    "        p1 = sum(cnt for bits, cnt in counts.items() if bits[0] == '1')\n",
    "        total = p0 + p1 or 1\n",
    "\n",
    "        expectation_values[base] = (p0 - p1) / total\n",
    "        all_counts[base] = counts\n",
    "\n",
    "    rho = 0.5 * (\n",
    "        pauli_list[0]\n",
    "        + expectation_values['X'] * pauli_list[1]\n",
    "        + expectation_values['Y'] * pauli_list[2]\n",
    "        + expectation_values['Z'] * pauli_list[3]\n",
    "    )\n",
    "\n",
    "    return rho, expectation_values, all_counts\n",
    "\n",
    "\n",
    "    rho = 0.5 * (\n",
    "        pauli_list[0]\n",
    "        + expectation_values['X'] * pauli_list[1]\n",
    "        + expectation_values['Y'] * pauli_list[2]\n",
    "        + expectation_values['Z'] * pauli_list[3]\n",
    "    )\n",
    "\n",
    "    return rho, expectation_values\n",
    "\n"
   ]
  },
  {
   "cell_type": "code",
   "execution_count": 50,
   "id": "791286cd",
   "metadata": {},
   "outputs": [],
   "source": [
    "def function_tel(n=0):\n",
    "    Alice = QuantumRegister(1,'Alice')\n",
    "    Bob = QuantumRegister(1,'Bob')\n",
    "    Secret = QuantumRegister(1,'Secret')\n",
    "    classical = ClassicalRegister(3, 'c')\n",
    "\n",
    "    circuit = QuantumCircuit(Secret,Alice,Bob,classical)\n",
    "\n",
    "    # Se n>0, adiciona registrador extra \"ext\" com n qubits\n",
    "    if n > 0:\n",
    "        ext = QuantumRegister(n, 'ext')\n",
    "        circuit = QuantumCircuit(Secret, Alice, Bob, ext, classical)\n",
    "    else:\n",
    "        circuit = QuantumCircuit(Secret, Alice, Bob, classical)\n",
    "    \n",
    "    #EPR\n",
    "    circuit.h(Alice)\n",
    "    circuit.cx(Alice,Bob)\n",
    "    circuit.barrier()\n",
    "\n",
    "    # swaps\n",
    "    if n > 0:\n",
    "        circuit.swap(Bob[0], ext[0])\n",
    "        for i in range(1, n):\n",
    "            circuit.swap(ext[i - 1], ext[i])\n",
    "        final_target = ext[n - 1]\n",
    "    else:\n",
    "        final_target = Bob[0]\n",
    "\n",
    "\n",
    "    #Passa a informação\n",
    "    circuit.barrier()\n",
    "    circuit.h(Secret)\n",
    "    circuit.barrier()\n",
    "\n",
    "    #Misturas de Estados\n",
    "    circuit.cx(Secret,Alice)\n",
    "    circuit.h(Secret)\n",
    "    circuit.barrier()\n",
    "\n",
    "    circuit.measure(Alice, classical[0])\n",
    "    circuit.measure(Secret, classical[1])\n",
    "    circuit.barrier()\n",
    "\n",
    "    # Correções condicionais\n",
    "    with circuit.if_test((classical[1], 1)):\n",
    "        circuit.z(final_target)\n",
    "    with circuit.if_test((classical[0], 1)):\n",
    "        circuit.x(final_target)\n",
    "    circuit.barrier()\n",
    "\n",
    "\n",
    "    return circuit"
   ]
  },
  {
   "cell_type": "code",
   "execution_count": 51,
   "id": "602a937e",
   "metadata": {},
   "outputs": [
    {
     "data": {
      "image/png": "[encoded data removed]",
      "text/plain": [
       "<Figure size 1681.56x367.889 with 1 Axes>"
      ]
     },
     "execution_count": 51,
     "metadata": {},
     "output_type": "execute_result"
    }
   ],
   "source": [
    "circuit = function_tel(n=0)\n",
    "circuit_2 = function_tel(n=2)\n",
    "circuit_4 = function_tel(n=4)\n",
    "circuit_6 = function_tel(n=6)\n",
    "circuit_8= function_tel(n=8)\n",
    "\n",
    "circuito =measurement_circuit(base=['X','Y','Z'],input_circuit=circuit, target=2)\n",
    "circuito.draw('mpl')"
   ]
  },
  {
   "cell_type": "code",
   "execution_count": 52,
   "id": "821b4795",
   "metadata": {},
   "outputs": [
    {
     "name": "stdout",
     "output_type": "stream",
     "text": [
      "[[0.479+0.j    0.5  -0.007j]\n",
      " [0.5  +0.007j 0.521+0.j   ]]\n",
      "{'X': 1.0, 'Y': 0.014, 'Z': -0.042}\n",
      "{'X': {'010': 268, '011': 251, '000': 266, '001': 215}, 'Y': {'001': 144, '010': 127, '000': 121, '101': 125, '110': 119, '100': 128, '011': 115, '111': 121}, 'Z': {'011': 132, '110': 136, '000': 129, '100': 112, '101': 130, '111': 143, '010': 100, '001': 118}}\n"
     ]
    }
   ],
   "source": [
    "rho , expec,all = tomography(my_circuit=circuit,target=2,shots=1000)\n",
    "print(rho)\n",
    "print(expec)\n",
    "print(all)"
   ]
  }
 ],
 "metadata": {
  "kernelspec": {
   "display_name": "cwq",
   "language": "python",
   "name": "python3"
  },
  "language_info": {
   "codemirror_mode": {
    "name": "ipython",
    "version": 3
   },
   "file_extension": ".py",
   "mimetype": "text/x-python",
   "name": "python",
   "nbconvert_exporter": "python",
   "pygments_lexer": "ipython3",
   "version": "3.12.11"
  }
 },
 "nbformat": 4,
 "nbformat_minor": 5
}
