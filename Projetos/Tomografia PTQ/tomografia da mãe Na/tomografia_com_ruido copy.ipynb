{
 "cells": [
  {
   "cell_type": "code",
   "execution_count": 43,
   "id": "e98ceb61",
   "metadata": {},
   "outputs": [],
   "source": [
    "from qiskit import *\n",
    "from qiskit_aer import AerSimulator\n",
    "import numpy as np\n",
    "from qiskit_aer.noise import NoiseModel, depolarizing_error\n",
    "#from qiskit_experiments import *\n",
    "from qiskit.quantum_info import state_fidelity\n",
    "from qutip import *"
   ]
  },
  {
   "cell_type": "markdown",
   "id": "23a85385",
   "metadata": {},
   "source": [
    "#### Definir backend"
   ]
  },
  {
   "cell_type": "code",
   "execution_count": 44,
   "id": "5531ec6e",
   "metadata": {},
   "outputs": [],
   "source": [
    "# Backend com ruído\n",
    "backend = AerSimulator()\n",
    "\n",
    "# Criando modelo de ruído (depolarização como exemplo)\n",
    "noise_model = NoiseModel()\n",
    "\n",
    "# Erro de 1 qubit (ex: 1% de chance de erro de porta)\n",
    "error1 = depolarizing_error(0.01, 1)\n",
    "# Erro de 2 qubits (ex: 2% de chance de erro de porta)\n",
    "error2 = depolarizing_error(0.01, 2)\n",
    "error3 = depolarizing_error(0.03, 2)\n",
    "\n",
    "# Adiciona ruído nas portas comuns\n",
    "noise_model.add_all_qubit_quantum_error(error1, ['h', 'x', 'z'])\n",
    "noise_model.add_all_qubit_quantum_error(error2, ['cx'])\n",
    "noise_model.add_all_qubit_quantum_error(error3, ['swap'])"
   ]
  },
  {
   "cell_type": "markdown",
   "id": "9a7422eb",
   "metadata": {},
   "source": [
    "#### Tomografia"
   ]
  },
  {
   "cell_type": "code",
   "execution_count": 45,
   "id": "12d7b15e",
   "metadata": {},
   "outputs": [],
   "source": [
    "def function_tel_tomography(n=0, shots=1000):\n",
    "    # Registradores quânticos\n",
    "    Alice = QuantumRegister(1, 'Alice')\n",
    "    Bob = QuantumRegister(1, 'Bob')\n",
    "    Secret = QuantumRegister(1, 'Secret')\n",
    "    c = ClassicalRegister(3, 'c')  # c[0] = Secret, c[1] = Alice, c[2] = tomografia\n",
    "\n",
    "    if n > 0:\n",
    "        ext = QuantumRegister(n, 'ext')\n",
    "        circuit = QuantumCircuit(Secret, Alice, Bob, ext, c)\n",
    "    else:\n",
    "        circuit = QuantumCircuit(Secret, Alice, Bob, c)\n",
    "\n",
    "    # EPR\n",
    "    circuit.h(Alice)\n",
    "    circuit.cx(Alice, Bob)\n",
    "    circuit.barrier()\n",
    "\n",
    "    # Swaps\n",
    "    if n > 0:\n",
    "        circuit.swap(Bob[0], ext[0])\n",
    "        for i in range(1, n):\n",
    "            circuit.swap(ext[i - 1], ext[i])\n",
    "        final_target = ext[n - 1]\n",
    "    else:\n",
    "        final_target = Bob[0]\n",
    "\n",
    "    # Estado secreto: H|0> = |+>\n",
    "    circuit.barrier()\n",
    "    circuit.h(Secret)\n",
    "    circuit.barrier()\n",
    "\n",
    "    # Entrelançamento e medições\n",
    "    circuit.cx(Secret, Alice)\n",
    "    circuit.h(Secret)\n",
    "    circuit.barrier()\n",
    "\n",
    "    circuit.measure(Alice, c[0])\n",
    "    circuit.measure(Secret, c[1])\n",
    "    circuit.barrier()\n",
    "\n",
    "    # Correções condicionais baseadas nas medições\n",
    "    with circuit.if_test((c[1], 1)):  # Se Alice medir 1, aplicar Z\n",
    "        circuit.z(final_target)\n",
    "\n",
    "    with circuit.if_test((c[0], 1)):  # Se Secret medir 1, aplicar X\n",
    "        circuit.x(final_target)\n",
    "\n",
    "    # =============== TOMOGRAFIA DIRETA ===============\n",
    "    pauli_list = [\n",
    "        np.eye(2),\n",
    "        np.array([[0.0, 1.0], [1.0, 0.0]]),       # X\n",
    "        np.array([[0, -1.0j], [1.0j, 0.0]]),      # Y\n",
    "        np.array([[1.0, 0.0], [0.0, -1.0]])       # Z\n",
    "    ]\n",
    "    expectation_values = {}\n",
    "    all_counts = {}\n",
    "\n",
    "    for base in ['X', 'Y', 'Z']:\n",
    "        circ = circuit.copy()\n",
    "\n",
    "        # Aplica a rotação de base antes da medição\n",
    "        if base == 'X':\n",
    "            circ.h(final_target)\n",
    "        elif base == 'Y':\n",
    "            circ.sdg(final_target)\n",
    "            circ.h(final_target)\n",
    "\n",
    "        # Mede o qubit final no registrador c[2]\n",
    "        circ.measure(final_target, c[2])\n",
    "\n",
    "        #Execução\n",
    "        transpiled = transpile(\n",
    "        circ,\n",
    "        backend,\n",
    "        basis_gates=['swap','h','x','z','cx','measure','sdg'],\n",
    "        optimization_level=0\n",
    "        )\n",
    "        result = backend.run(transpiled, shots=100000, noise_model=noise_model).result()\n",
    "        counts= result.get_counts()\n",
    "\n",
    "        # Obtenção dos valores esperados\n",
    "        p0 = sum(cnt for bits, cnt in counts.items() if bits[0]=='0')\n",
    "        p1 = sum(cnt for bits, cnt in counts.items() if bits[0]=='1')\n",
    "        total = p0 + p1 or 1\n",
    "        expectation_values[base] = (p0 - p1) / total\n",
    "        all_counts[base] = counts\n",
    "\n",
    "    # Reconstrução da matriz densidade\n",
    "    rho = 0.5 * (\n",
    "        pauli_list[0]\n",
    "        + expectation_values['X'] * pauli_list[1]\n",
    "        + expectation_values['Y'] * pauli_list[2]\n",
    "        + expectation_values['Z'] * pauli_list[3]\n",
    "    )\n",
    "\n",
    "    rho_q = Qobj(rho)\n",
    "\n",
    "    return rho_q, expectation_values, circuit"
   ]
  },
  {
   "cell_type": "markdown",
   "id": "d1a6780e",
   "metadata": {},
   "source": [
    "### Circuito"
   ]
  },
  {
   "cell_type": "code",
   "execution_count": null,
   "id": "c045c4a9",
   "metadata": {},
   "outputs": [
    {
     "data": {
      "text/plain": [
       "'rho_4 ,expectation_values_1, circuit_1, counts_1 ,circ= function_tel_tomography(n=4, shots=10000)\\nprint(\"rho_1 =\\n\", rho_4)\\n\\ncirc.draw(\"mpl\")'"
      ]
     },
     "execution_count": 46,
     "metadata": {},
     "output_type": "execute_result"
    }
   ],
   "source": [
    "rho_4 ,expectation_values_1, circuit_1, counts_1 ,circ= function_tel_tomography(n=4, shots=10000)\n",
    "print(\"rho_1 =\\n\", rho_4)\n",
    "\n",
    "circ.draw(\"mpl\")"
   ]
  },
  {
   "cell_type": "markdown",
   "id": "379ce9dd",
   "metadata": {},
   "source": [
    "#### Rhos"
   ]
  },
  {
   "cell_type": "code",
   "execution_count": 47,
   "id": "819a2a9f",
   "metadata": {},
   "outputs": [
    {
     "name": "stderr",
     "output_type": "stream",
     "text": [
      "c:\\Users\\ianre\\miniconda3\\envs\\cwq\\Lib\\site-packages\\qiskit\\compiler\\transpiler.py:269: UserWarning: Providing `coupling_map` and/or `basis_gates` along with `backend` is not recommended, as this will invalidate the backend's gate durations and error rates.\n",
      "  pm = generate_preset_pass_manager(\n"
     ]
    },
    {
     "name": "stdout",
     "output_type": "stream",
     "text": [
      "rho_0 =\n",
      " Quantum object: dims=[[2], [2]], shape=(2, 2), type='oper', dtype=Dense, isherm=True\n",
      "Qobj data =\n",
      "[[0.50151+0.j      0.46619+0.00359j]\n",
      " [0.46619-0.00359j 0.49849+0.j     ]]\n",
      "rho_1 =\n",
      " Quantum object: dims=[[2], [2]], shape=(2, 2), type='oper', dtype=Dense, isherm=True\n",
      "Qobj data =\n",
      "[[0.49912+0.j      0.45233-0.00215j]\n",
      " [0.45233+0.00215j 0.50088+0.j     ]]\n",
      "rho_2 =\n",
      " Quantum object: dims=[[2], [2]], shape=(2, 2), type='oper', dtype=Dense, isherm=True\n",
      "Qobj data =\n",
      "[[0.50154+0.j      0.43837+0.00064j]\n",
      " [0.43837-0.00064j 0.49846+0.j     ]]\n",
      "rho_3 =\n",
      " Quantum object: dims=[[2], [2]], shape=(2, 2), type='oper', dtype=Dense, isherm=True\n",
      "Qobj data =\n",
      "[[0.49938+0.j      0.42628-0.00131j]\n",
      " [0.42628+0.00131j 0.50062+0.j     ]]\n",
      "rho_4 =\n",
      " Quantum object: dims=[[2], [2]], shape=(2, 2), type='oper', dtype=Dense, isherm=True\n",
      "Qobj data =\n",
      "[[0.49652+0.j      0.41297+0.00122j]\n",
      " [0.41297-0.00122j 0.50348+0.j     ]]\n",
      "rho_5 =\n",
      " Quantum object: dims=[[2], [2]], shape=(2, 2), type='oper', dtype=Dense, isherm=True\n",
      "Qobj data =\n",
      "[[0.50031+0.j      0.40017+0.00058j]\n",
      " [0.40017-0.00058j 0.49969+0.j     ]]\n",
      "rho_6 =\n",
      " Quantum object: dims=[[2], [2]], shape=(2, 2), type='oper', dtype=Dense, isherm=True\n",
      "Qobj data =\n",
      "[[0.49887+0.e+00j 0.38664-1.e-05j]\n",
      " [0.38664+1.e-05j 0.50113+0.e+00j]]\n",
      "rho_7 =\n",
      " Quantum object: dims=[[2], [2]], shape=(2, 2), type='oper', dtype=Dense, isherm=True\n",
      "Qobj data =\n",
      "[[0.49969+0.j     0.37603+0.0011j]\n",
      " [0.37603-0.0011j 0.50031+0.j    ]]\n",
      "rho_8 =\n",
      " Quantum object: dims=[[2], [2]], shape=(2, 2), type='oper', dtype=Dense, isherm=True\n",
      "Qobj data =\n",
      "[[0.49716+0.j      0.36672-0.00149j]\n",
      " [0.36672+0.00149j 0.50284+0.j     ]]\n",
      "rho_9 =\n",
      " Quantum object: dims=[[2], [2]], shape=(2, 2), type='oper', dtype=Dense, isherm=True\n",
      "Qobj data =\n",
      "[[0.49738+0.j      0.35276+0.00164j]\n",
      " [0.35276-0.00164j 0.50262+0.j     ]]\n",
      "rho_10 =\n",
      " Quantum object: dims=[[2], [2]], shape=(2, 2), type='oper', dtype=Dense, isherm=True\n",
      "Qobj data =\n",
      "[[0.5011+0.j      0.3446-0.00111j]\n",
      " [0.3446+0.00111j 0.4989+0.j     ]]\n"
     ]
    }
   ],
   "source": [
    "rho_0 ,expectation_values_0, circuit_0 = function_tel_tomography(n=0, shots=10000)\n",
    "print(\"rho_0 =\\n\", rho_0)\n",
    "\n",
    "rho_1 ,expectation_values_1, circuit_1 = function_tel_tomography(n=1, shots=10000)\n",
    "print(\"rho_1 =\\n\", rho_1)\n",
    "\n",
    "rho_2 ,expectation_values_2, circuit_2 = function_tel_tomography(n=2, shots=10000)\n",
    "print(\"rho_2 =\\n\", rho_2)\n",
    "\n",
    "rho_3 ,expectation_values_3, circuit_3 = function_tel_tomography(n=3, shots=10000)\n",
    "print(\"rho_3 =\\n\", rho_3)\n",
    "\n",
    "rho_4 ,expectation_values_4, circuit_4 = function_tel_tomography(n=4, shots=10000)\n",
    "print(\"rho_4 =\\n\", rho_4)\n",
    "\n",
    "rho_5 ,expectation_values_5, circuit_5 = function_tel_tomography(n=5, shots=10000)\n",
    "print(\"rho_5 =\\n\", rho_5)\n",
    "\n",
    "rho_6 ,expectation_values_6, circuit_6 = function_tel_tomography(n=6, shots=10000)\n",
    "print(\"rho_6 =\\n\", rho_6)\n",
    "\n",
    "rho_7 ,expectation_values_7, circuit_7= function_tel_tomography(n=7, shots=10000)\n",
    "print(\"rho_7 =\\n\", rho_7)\n",
    "\n",
    "rho_8 ,expectation_values_8, circuit_8 = function_tel_tomography(n=8, shots=10000)\n",
    "print(\"rho_8 =\\n\", rho_8)\n",
    "\n",
    "rho_9 ,expectation_values_9, circuit_9 = function_tel_tomography(n=9, shots=10000)\n",
    "print(\"rho_9 =\\n\", rho_9)\n",
    "\n",
    "rho_10 ,expectation_values_10, circuit_10 = function_tel_tomography(n=10, shots=10000)\n",
    "print(\"rho_10 =\\n\", rho_10)\n"
   ]
  },
  {
   "cell_type": "markdown",
   "id": "c602c8bd",
   "metadata": {},
   "source": [
    "#### Obtencao das fidelidades\n"
   ]
  },
  {
   "cell_type": "code",
   "execution_count": 56,
   "id": "b836e3ba",
   "metadata": {},
   "outputs": [
    {
     "name": "stdout",
     "output_type": "stream",
     "text": [
      "Fidelidade entre rho_0 e rho_0: 0.9829496426572417\n",
      "Fidelidade entre rho_0 e rho_1: 0.9758739672724135\n",
      "Fidelidade entre rho_0 e rho_2: 0.9686950037069771\n",
      "Fidelidade entre rho_0 e rho_3: 0.9624344186181698\n",
      "Fidelidade entre rho_0 e rho_4: 0.9554946363010102\n",
      "Fidelidade entre rho_0 e rho_5: 0.9487729022236534\n",
      "Fidelidade entre rho_0 e rho_6: 0.9416156477365555\n",
      "Fidelidade entre rho_0 e rho_7: 0.9359647534624272\n",
      "Fidelidade entre rho_0 e rho_8: 0.930977980405552\n",
      "Fidelidade entre rho_0 e rho_9: 0.9234500645715646\n",
      "Fidelidade entre rho_0 e rho_10: 0.9190212290077546\n"
     ]
    }
   ],
   "source": [
    "from qiskit.quantum_info import state_fidelity\n",
    "\n",
    "rho_ref = Qobj([[0.5,0.5],[0.5,0.5]])\n",
    "\n",
    "fidelidade_0 = fidelity(rho_0, rho_ref)\n",
    "print(\"Fidelidade entre rho_0 e rho_0:\", fidelidade_0)\n",
    "\n",
    "fidelidade_1 = fidelity(rho_1, rho_ref)\n",
    "print(\"Fidelidade entre rho_0 e rho_1:\", fidelidade_1)\n",
    "\n",
    "fidelidade_2 = fidelity(rho_2, rho_ref)\n",
    "print(\"Fidelidade entre rho_0 e rho_2:\", fidelidade_2)\n",
    "\n",
    "fidelidade_3 = fidelity(rho_3, rho_ref)\n",
    "print(\"Fidelidade entre rho_0 e rho_3:\", fidelidade_3)\n",
    "\n",
    "fidelidade_4 = fidelity(rho_4, rho_ref)\n",
    "print(\"Fidelidade entre rho_0 e rho_4:\", fidelidade_4)\n",
    "\n",
    "fidelidade_5 = fidelity(rho_5, rho_ref)\n",
    "print(\"Fidelidade entre rho_0 e rho_5:\", fidelidade_5)\n",
    "\n",
    "fidelidade_6 = fidelity(rho_6, rho_ref)\n",
    "print(\"Fidelidade entre rho_0 e rho_6:\", fidelidade_6)\n",
    "\n",
    "fidelidade_7 = fidelity(rho_7, rho_ref)\n",
    "print(\"Fidelidade entre rho_0 e rho_7:\", fidelidade_7)\n",
    "\n",
    "fidelidade_8 = fidelity(rho_8, rho_ref)\n",
    "print(\"Fidelidade entre rho_0 e rho_8:\", fidelidade_8)\n",
    "\n",
    "fidelidade_9 = fidelity(rho_9, rho_ref)\n",
    "print(\"Fidelidade entre rho_0 e rho_9:\", fidelidade_9)\n",
    "\n",
    "fidelidade_10 = fidelity(rho_10, rho_ref)\n",
    "print(\"Fidelidade entre rho_0 e rho_10:\", fidelidade_10)\n"
   ]
  },
  {
   "cell_type": "markdown",
   "id": "5c8a913d",
   "metadata": {},
   "source": [
    "#### Grafico Fidelidade x Swap"
   ]
  },
  {
   "cell_type": "code",
   "execution_count": 57,
   "id": "dcd5a6e6",
   "metadata": {},
   "outputs": [
    {
     "data": {
      "image/png": "[encoded data removed]",
      "text/plain": [
       "<Figure size 500x500 with 1 Axes>"
      ]
     },
     "metadata": {},
     "output_type": "display_data"
    }
   ],
   "source": [
    "import matplotlib.pyplot as plt\n",
    "\n",
    "# Colocando os valores já obtidos em uma lista\n",
    "fidelidades = [\n",
    "    fidelidade_0,\n",
    "    fidelidade_1,\n",
    "    fidelidade_2,\n",
    "    fidelidade_3,\n",
    "    fidelidade_4,\n",
    "    fidelidade_5,\n",
    "    fidelidade_6,\n",
    "    fidelidade_7,\n",
    "    fidelidade_8,\n",
    "    fidelidade_9,\n",
    "    fidelidade_10\n",
    "]\n",
    "\n",
    "# Criando eixo de swaps (0 a 10)\n",
    "swaps = list(range(len(fidelidades)))\n",
    "\n",
    "# Plotando\n",
    "plt.figure(figsize=(5,5))\n",
    "plt.plot(swaps, fidelidades, marker='o', linestyle='-', linewidth=2)\n",
    "\n",
    "plt.title(\"Fidelidade vs Número de SWAPs\", fontsize=14)\n",
    "plt.xlabel(\"Número de SWAPs\", fontsize=12)\n",
    "plt.ylabel(\"Fidelidade\", fontsize=12)\n",
    "\n",
    "# Limitando o eixo y de 0.5 a 1\n",
    "plt.ylim(0.88, 1.05)\n",
    "\n",
    "plt.grid(True)\n",
    "plt.show()\n",
    "\n",
    "\n"
   ]
  },
  {
   "cell_type": "markdown",
   "id": "d084700a",
   "metadata": {},
   "source": [
    "#### Plots"
   ]
  },
  {
   "cell_type": "code",
   "execution_count": 52,
   "id": "5b6c06b6",
   "metadata": {},
   "outputs": [
    {
     "name": "stdout",
     "output_type": "stream",
     "text": [
      "Entropia_0: 0.2130741841280965\n",
      "Entropia_1: 0.27638982498187725\n",
      "Entropia_2: 0.3338692510255664\n",
      "Entropia_3: 0.37964607422911645\n",
      "Entropia_4: 0.42642203690292196\n",
      "Entropia_5: 0.4684547601019571\n",
      "Entropia_6: 0.5099633786397209\n",
      "Entropia_7: 0.5406609550529312\n",
      "Entropia_8: 0.5663275847633804\n",
      "Entropia_9: 0.6028557715732652\n",
      "Entropia_10: 0.6231817767058419\n"
     ]
    }
   ],
   "source": [
    "from qutip.entropy import entropy_vn\n",
    "\n",
    "Entropia_0  = entropy_vn(rho_0, base=2)\n",
    "print(\"Entropia_0:\", Entropia_0)\n",
    "\n",
    "Entropia_1  = entropy_vn(rho_1, base=2)\n",
    "print(\"Entropia_1:\", Entropia_1)\n",
    "\n",
    "Entropia_2  = entropy_vn(rho_2, base=2)\n",
    "print(\"Entropia_2:\", Entropia_2)\n",
    "\n",
    "Entropia_3  = entropy_vn(rho_3, base=2)\n",
    "print(\"Entropia_3:\", Entropia_3)\n",
    "\n",
    "Entropia_4  = entropy_vn(rho_4, base=2)\n",
    "print(\"Entropia_4:\", Entropia_4)\n",
    "\n",
    "Entropia_5  = entropy_vn(rho_5, base=2)\n",
    "print(\"Entropia_5:\", Entropia_5)\n",
    "\n",
    "Entropia_6  = entropy_vn(rho_6, base=2)\n",
    "print(\"Entropia_6:\", Entropia_6)\n",
    "\n",
    "Entropia_7  = entropy_vn(rho_7, base=2)\n",
    "print(\"Entropia_7:\", Entropia_7)\n",
    "\n",
    "Entropia_8  = entropy_vn(rho_8, base=2)\n",
    "print(\"Entropia_8:\", Entropia_8)\n",
    "\n",
    "Entropia_9  = entropy_vn(rho_9, base=2)\n",
    "print(\"Entropia_9:\", Entropia_9)\n",
    "\n",
    "Entropia_10 = entropy_vn(rho_10, base=2)\n",
    "print(\"Entropia_10:\", Entropia_10)\n"
   ]
  },
  {
   "cell_type": "markdown",
   "id": "c5dd700f",
   "metadata": {},
   "source": [
    "#### Entropia de Von Neuman"
   ]
  },
  {
   "cell_type": "code",
   "execution_count": 59,
   "id": "62389240",
   "metadata": {},
   "outputs": [
    {
     "data": {
      "image/png": "[encoded data removed]",
      "text/plain": [
       "<Figure size 500x500 with 1 Axes>"
      ]
     },
     "metadata": {},
     "output_type": "display_data"
    }
   ],
   "source": [
    "import matplotlib.pyplot as plt\n",
    "\n",
    "# Colocando os valores já obtidos em uma lista\n",
    "entropias = [\n",
    "  Entropia_0,\n",
    "  Entropia_1,\n",
    "  Entropia_2,\n",
    "  Entropia_3,\n",
    "  Entropia_4,\n",
    "  Entropia_5,\n",
    "  Entropia_6,\n",
    "  Entropia_7,\n",
    "  Entropia_8,\n",
    "  Entropia_9,\n",
    "  Entropia_10\n",
    "]\n",
    "\n",
    "# Criando eixo de swaps (0 a 10)\n",
    "swaps = list(range(len(entropias)))\n",
    "\n",
    "# Plotando\n",
    "plt.figure(figsize=(5,5))\n",
    "plt.plot(swaps, entropias, marker='o', linestyle='-', linewidth=2)\n",
    "\n",
    "plt.title(\"Entropia Von Neuaman vs Número de SWAPs\", fontsize=14)\n",
    "plt.xlabel(\"Número de SWAPs\", fontsize=12)\n",
    "plt.ylabel(\"Entropia\", fontsize=12)\n",
    "\n",
    "# Limitando o eixo y de 0.5 a 1\n",
    "plt.ylim(0.20, 0.80)\n",
    "\n",
    "plt.grid(True)\n",
    "plt.show()"
   ]
  },
  {
   "cell_type": "code",
   "execution_count": 54,
   "id": "ffeaa13d",
   "metadata": {},
   "outputs": [
    {
     "name": "stdout",
     "output_type": "stream",
     "text": [
      "distancia_0: 0.03403357606834757\n",
      "distancia_1: 0.04772657331089253\n",
      "distancia_2: 0.061652559557572324\n",
      "distancia_3: 0.07373424509683409\n",
      "distancia_4: 0.0871080920466061\n",
      "distancia_5: 0.09983216615900906\n",
      "distancia_6: 0.11336563235831221\n",
      "distancia_7: 0.12397526769481083\n",
      "distancia_8: 0.13331858122557413\n",
      "distancia_9: 0.14727244005583662\n",
      "distancia_10: 0.15540785726596967\n"
     ]
    }
   ],
   "source": [
    "from qutip import *\n",
    "\n",
    "# Força bruta: calcular manualmente\n",
    "distancia_0 = tracedist(rho_ref, rho_0)\n",
    "print(\"distancia_0:\", distancia_0)\n",
    "\n",
    "distancia_1 = tracedist(rho_ref, rho_1)\n",
    "print(\"distancia_1:\", distancia_1)\n",
    "\n",
    "distancia_2 = tracedist(rho_ref, rho_2)\n",
    "print(\"distancia_2:\", distancia_2)\n",
    "\n",
    "distancia_3 = tracedist(rho_ref, rho_3)\n",
    "print(\"distancia_3:\", distancia_3)\n",
    "\n",
    "distancia_4 = tracedist(rho_ref, rho_4)\n",
    "print(\"distancia_4:\", distancia_4)\n",
    "\n",
    "distancia_5 = tracedist(rho_ref, rho_5)\n",
    "print(\"distancia_5:\", distancia_5)\n",
    "\n",
    "distancia_6 = tracedist(rho_ref, rho_6)\n",
    "print(\"distancia_6:\", distancia_6)\n",
    "\n",
    "distancia_7 = tracedist(rho_ref, rho_7)\n",
    "print(\"distancia_7:\", distancia_7)\n",
    "\n",
    "distancia_8 = tracedist(rho_ref, rho_8)\n",
    "print(\"distancia_8:\", distancia_8)\n",
    "\n",
    "distancia_9 = tracedist(rho_ref, rho_9)\n",
    "print(\"distancia_9:\", distancia_9)\n",
    "\n",
    "distancia_10 = tracedist(rho_ref,rho_10)\n",
    "print(\"distancia_10:\", distancia_10)"
   ]
  },
  {
   "cell_type": "code",
   "execution_count": 55,
   "id": "4e6d65fa",
   "metadata": {},
   "outputs": [
    {
     "data": {
      "image/png": "[encoded data removed]",
      "text/plain": [
       "<Figure size 500x500 with 1 Axes>"
      ]
     },
     "metadata": {},
     "output_type": "display_data"
    }
   ],
   "source": [
    "import matplotlib.pyplot as plt\n",
    "\n",
    "# Colocando os valores já obtidos em uma lista\n",
    "distancia = [distancia_0,\n",
    "             distancia_1,\n",
    "             distancia_2,\n",
    "             distancia_3,\n",
    "             distancia_4,\n",
    "             distancia_5,\n",
    "             distancia_6,\n",
    "             distancia_7,\n",
    "             distancia_8,\n",
    "             distancia_9,\n",
    "             distancia_10\n",
    "]\n",
    "\n",
    "# Criando eixo de swaps (0 a 10)\n",
    "swaps = list(range(len(distancia)))\n",
    "\n",
    "# Plotando\n",
    "plt.figure(figsize=(5,5))\n",
    "plt.plot(swaps, distancia, marker='o', linestyle='-', linewidth=2)\n",
    "\n",
    "plt.title(\"Distância vs Número de SWAPs\", fontsize=14)\n",
    "plt.xlabel(\"Número de SWAPs\", fontsize=12)\n",
    "plt.ylabel(\"Distância\", fontsize=12)\n",
    "\n",
    "# Limitando o eixo y de 0.5 a 1\n",
    "plt.ylim(0.001, 0.20)\n",
    "\n",
    "plt.grid(True)\n",
    "plt.show()"
   ]
  }
 ],
 "metadata": {
  "kernelspec": {
   "display_name": "cwq",
   "language": "python",
   "name": "python3"
  },
  "language_info": {
   "codemirror_mode": {
    "name": "ipython",
    "version": 3
   },
   "file_extension": ".py",
   "mimetype": "text/x-python",
   "name": "python",
   "nbconvert_exporter": "python",
   "pygments_lexer": "ipython3",
   "version": "3.13.2"
  }
 },
 "nbformat": 4,
 "nbformat_minor": 5
}
