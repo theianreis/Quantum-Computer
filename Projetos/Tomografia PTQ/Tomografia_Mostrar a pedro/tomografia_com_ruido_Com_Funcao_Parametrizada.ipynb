{
 "cells": [
  {
   "cell_type": "code",
   "execution_count": 8,
   "id": "65d710b6",
   "metadata": {},
   "outputs": [],
   "source": [
    "from qiskit import *\n",
    "from qiskit_aer import AerSimulator\n",
    "import numpy as np\n",
    "from qiskit_aer.noise import NoiseModel, depolarizing_error\n",
    "#from qiskit_experiments import *\n",
    "from qiskit.quantum_info import state_fidelity\n",
    "from copy import deepcopy\n",
    "from qiskit.visualization import plot_histogram"
   ]
  },
  {
   "cell_type": "code",
   "execution_count": 9,
   "id": "f8162aa3",
   "metadata": {},
   "outputs": [],
   "source": [
    "backend = AerSimulator()\n",
    "\n",
    "noise_model = NoiseModel()\n",
    "erro1 = depolarizing_error(0.01,1)\n",
    "erro2 = depolarizing_error(0.02,2)\n",
    "\n",
    "noise_model.add_all_qubit_quantum_error(erro1,['h','x','z'])\n",
    "noise_model.add_all_qubit_quantum_error(erro2,['cx','swap'])"
   ]
  },
  {
   "cell_type": "code",
   "execution_count": null,
   "id": "81cb3187",
   "metadata": {},
   "outputs": [
    {
     "ename": "_IncompleteInputError",
     "evalue": "incomplete input (2983616445.py, line 77)",
     "output_type": "error",
     "traceback": [
      "  \u001b[36mCell\u001b[39m\u001b[36m \u001b[39m\u001b[32mIn[10]\u001b[39m\u001b[32m, line 77\u001b[39m\n\u001b[31m    \u001b[39m\u001b[31m+ expectation_values['X'] * pauli_list[1]\u001b[39m\n                                             ^\n\u001b[31m_IncompleteInputError\u001b[39m\u001b[31m:\u001b[39m incomplete input\n"
     ]
    }
   ],
   "source": [
    "from qiskit import QuantumCircuit, ClassicalRegister, transpile\n",
    "import numpy as np\n",
    "\n",
    "pauli_list = [\n",
    "    np.eye(2),\n",
    "    np.array([[0.0, 1.0], [1.0, 0.0]]),        # X\n",
    "    np.array([[0, -1.0j], [1.0j, 0.0]]),       # Y\n",
    "    np.array([[1.0, 0.0], [0.0, -1.0]])        # Z\n",
    "]\n",
    "\n",
    "def measurement(base, input_circuit, target_qubit):\n",
    "    \"\"\"\n",
    "    Cria uma cópia do circuito de entrada, aplica a rotação que diagonaliza\n",
    "    o operador de Pauli desejado no qubit 'target_qubit' e mede esse qubit\n",
    "    em um registrador clássico dedicado (ctomo[0]).\n",
    "    Retorna (circuito_medicao, classical_bit_da_tomografia).\n",
    "    \"\"\"\n",
    "    circ = input_circuit.copy()\n",
    "\n",
    "    # Rotações para medir em X ou Y via base Z\n",
    "    if base == 'X':\n",
    "        circ.h(target_qubit)\n",
    "    elif base == 'Y':\n",
    "        circ.sdg(target_qubit)\n",
    "        circ.h(target_qubit)\n",
    "\n",
    "    # Registrador clássico dedicado para a tomografia\n",
    "    ctomo = ClassicalRegister(1, 'ctomo')\n",
    "    circ.add_register(ctomo)\n",
    "\n",
    "    # Mede o qubit-alvo apenas em ctomo[0] (bit dedicado)\n",
    "    circ.measure(target_qubit, ctomo[0])\n",
    "\n",
    "    # Retorna também o ClassicalBit para localizá-lo depois\n",
    "    return circ, ctomo[0]\n",
    "\n",
    "def tomography(my_circuit, target_qubit, shots, backend, noise_model=None):\n",
    "    \"\"\"\n",
    "    Executa medições em X, Y, Z do qubit 'target_qubit' usando um bit clássico\n",
    "    dedicado. Marginaliza exatamente esse bit para computar ⟨X⟩, ⟨Y⟩, ⟨Z⟩.\n",
    "    \"\"\"\n",
    "    expectation_values = {}\n",
    "    all_counts = {}\n",
    "\n",
    "    # Import da função de marginalização (compatível com versões)\n",
    "    try:\n",
    "        from qiskit.result import marginal_counts\n",
    "    except Exception:\n",
    "        from qiskit.result.utils import marginal_counts\n",
    "\n",
    "    for base in ['X', 'Y', 'Z']:\n",
    "        meas_circ, tomo_cbit = measurement(base, my_circuit, target_qubit)\n",
    "        tqc = transpile(meas_circ, backend)\n",
    "        if noise_model is None:\n",
    "            result = backend.run(tqc, shots=shots).result()\n",
    "        else:\n",
    "            result = backend.run(tqc, shots=shots, noise_model=noise_model).result()\n",
    "        counts = result.get_counts()\n",
    "\n",
    "        # Índice exato do bit clássico ctomo[0] no circuito transpiled\n",
    "        tomo_idx = meas_circ.find_bit(tomo_cbit).index\n",
    "\n",
    "        # Marginaliza apenas esse bit (retorna dict {'0':..,'1':..})\n",
    "        mcounts = marginal_counts(counts, [tomo_idx])\n",
    "\n",
    "        p0 = mcounts.get('0', 0)\n",
    "        p1 = mcounts.get('1', 0)\n",
    "        total = p0 + p1 or 1\n",
    "\n",
    "        # Esperança do operador Pauli correspondente\n",
    "        expectation_values[base] = (p0 - p1) / total\n",
    "        all_counts[base] = counts\n",
    "\n",
    "    # Reconstrução da matriz densidade de 1 qubit\n",
    "    rho = 0.5 * (\n",
    "        pauli_list[0]\n",
    "        + expectation_values['X'] * pauli_list[1]\n"
   ]
  },
  {
   "cell_type": "code",
   "execution_count": null,
   "id": "da1a4fa1",
   "metadata": {},
   "outputs": [],
   "source": [
    "def function_tel_tomography(n=0):\n",
    "    # Registradores quânticos\n",
    "    Secret = QuantumRegister(1, 'Secret')\n",
    "    Alice = QuantumRegister(1, 'Alice')\n",
    "    Bob = QuantumRegister(1, 'Bob')\n",
    "    c = ClassicalRegister(3, 'c')  # c[0] = Secret, c[1] = Alice, c[2] = tomografia\n",
    "\n",
    "    if n > 0:\n",
    "        ext = QuantumRegister(n, 'ext')\n",
    "        circuit = QuantumCircuit(Secret, Alice, Bob, ext, c)\n",
    "    else:\n",
    "        circuit = QuantumCircuit(Secret, Alice, Bob, c)\n",
    "\n",
    "    # EPR\n",
    "    circuit.h(Alice)\n",
    "    circuit.cx(Alice, Bob)\n",
    "    circuit.barrier()\n",
    "\n",
    "    # Swaps\n",
    "    if n > 0:\n",
    "        circuit.swap(Bob[0], ext[0])\n",
    "        for i in range(1, n):\n",
    "            circuit.swap(ext[i - 1], ext[i])\n",
    "        final_target = ext[n - 1]\n",
    "    else:\n",
    "        final_target = Bob[0]\n",
    "\n",
    "    # Estado secreto: H|0> = |+>\n",
    "    circuit.barrier()\n",
    "    circuit.h(Secret)\n",
    "    circuit.barrier()\n",
    "\n",
    "    # Entrelançamento e medições\n",
    "    circuit.cx(Secret, Alice)\n",
    "    circuit.h(Secret)\n",
    "    circuit.barrier()\n",
    "\n",
    "    circuit.measure(Alice, c[0])\n",
    "    circuit.measure(Secret, c[1])\n",
    "    circuit.barrier()\n",
    "\n",
    "    # Correções condicionais baseadas nas medições\n",
    "    with circuit.if_test((c[0], 1)):  # Alice\n",
    "        circuit.x(final_target)\n",
    "    with circuit.if_test((c[1], 1)):  # Secret\n",
    "        circuit.z(final_target)\n",
    "\n",
    "    circuit.barrier()\n",
    "\n",
    "    return circuit"
   ]
  },
  {
   "cell_type": "code",
   "execution_count": null,
   "id": "36a88f69",
   "metadata": {},
   "outputs": [
    {
     "name": "stdout",
     "output_type": "stream",
     "text": [
      "ρ reconstruída:\n",
      " [[0.497+0.j     0.5  +0.0002j]\n",
      " [0.5  -0.0002j 0.503+0.j    ]]\n",
      "⟨X⟩,⟨Y⟩,⟨Z⟩: {'X': 1.0, 'Y': -0.0004, 'Z': -0.006}\n"
     ]
    }
   ],
   "source": [
    "circuit = QuantumCircuit(1,1)\n",
    "circuit.h(0)\n",
    "\n",
    "rho, exp_vals, counts = tomography(my_circuit=circuit, target=0, shots=10000)\n",
    "\n",
    "print(\"ρ reconstruída:\\n\", rho)\n",
    "print(\"⟨X⟩,⟨Y⟩,⟨Z⟩:\", exp_vals)"
   ]
  },
  {
   "cell_type": "code",
   "execution_count": null,
   "id": "dc0703cd",
   "metadata": {},
   "outputs": [
    {
     "name": "stdout",
     "output_type": "stream",
     "text": [
      "ρ reconstruída:\n",
      " [[4.893e-01+0.j     5.000e-04-0.0003j]\n",
      " [5.000e-04+0.0003j 5.107e-01+0.j    ]]\n",
      "⟨X⟩,⟨Y⟩,⟨Z⟩: {'X': 0.001, 'Y': 0.0006, 'Z': -0.0214}\n"
     ]
    }
   ],
   "source": [
    "circuit = function_tel_tomography(n=0)\n",
    "rho, exp_vals, counts = tomography(my_circuit=circuit, target=0, shots=10000)\n",
    "print(\"ρ reconstruída:\\n\", rho)\n",
    "print(\"⟨X⟩,⟨Y⟩,⟨Z⟩:\", exp_vals)"
   ]
  },
  {
   "cell_type": "code",
   "execution_count": null,
   "id": "fac320e4",
   "metadata": {},
   "outputs": [
    {
     "ename": "TypeError",
     "evalue": "int() argument must be a string, a bytes-like object or a real number, not 'Counts'",
     "output_type": "error",
     "traceback": [
      "\u001b[31m---------------------------------------------------------------------------\u001b[39m",
      "\u001b[31mTypeError\u001b[39m                                 Traceback (most recent call last)",
      "\u001b[36mCell\u001b[39m\u001b[36m \u001b[39m\u001b[32mIn[7]\u001b[39m\u001b[32m, line 1\u001b[39m\n\u001b[32m----> \u001b[39m\u001b[32m1\u001b[39m \u001b[43mplot_histogram\u001b[49m\u001b[43m(\u001b[49m\u001b[43mcounts\u001b[49m\u001b[43m)\u001b[49m\n",
      "\u001b[36mFile \u001b[39m\u001b[32mc:\\Users\\ianre\\miniconda3\\envs\\cwq\\Lib\\site-packages\\qiskit\\visualization\\counts_visualization.py:150\u001b[39m, in \u001b[36mplot_histogram\u001b[39m\u001b[34m(data, figsize, color, number_to_keep, sort, target_string, legend, bar_labels, title, ax, filename)\u001b[39m\n\u001b[32m    146\u001b[39m     \u001b[38;5;28;01mif\u001b[39;00m \u001b[38;5;28misinstance\u001b[39m(dat, (QuasiDistribution, ProbDistribution)) \u001b[38;5;129;01mor\u001b[39;00m \u001b[38;5;28misinstance\u001b[39m(\n\u001b[32m    147\u001b[39m         \u001b[38;5;28mnext\u001b[39m(\u001b[38;5;28miter\u001b[39m(dat.values())), \u001b[38;5;28mfloat\u001b[39m\n\u001b[32m    148\u001b[39m     ):\n\u001b[32m    149\u001b[39m         kind = \u001b[33m\"\u001b[39m\u001b[33mdistribution\u001b[39m\u001b[33m\"\u001b[39m\n\u001b[32m--> \u001b[39m\u001b[32m150\u001b[39m \u001b[38;5;28;01mreturn\u001b[39;00m \u001b[43m_plotting_core\u001b[49m\u001b[43m(\u001b[49m\n\u001b[32m    151\u001b[39m \u001b[43m    \u001b[49m\u001b[43mdata\u001b[49m\u001b[43m,\u001b[49m\n\u001b[32m    152\u001b[39m \u001b[43m    \u001b[49m\u001b[43mfigsize\u001b[49m\u001b[43m,\u001b[49m\n\u001b[32m    153\u001b[39m \u001b[43m    \u001b[49m\u001b[43mcolor\u001b[49m\u001b[43m,\u001b[49m\n\u001b[32m    154\u001b[39m \u001b[43m    \u001b[49m\u001b[43mnumber_to_keep\u001b[49m\u001b[43m,\u001b[49m\n\u001b[32m    155\u001b[39m \u001b[43m    \u001b[49m\u001b[43msort\u001b[49m\u001b[43m,\u001b[49m\n\u001b[32m    156\u001b[39m \u001b[43m    \u001b[49m\u001b[43mtarget_string\u001b[49m\u001b[43m,\u001b[49m\n\u001b[32m    157\u001b[39m \u001b[43m    \u001b[49m\u001b[43mlegend\u001b[49m\u001b[43m,\u001b[49m\n\u001b[32m    158\u001b[39m \u001b[43m    \u001b[49m\u001b[43mbar_labels\u001b[49m\u001b[43m,\u001b[49m\n\u001b[32m    159\u001b[39m \u001b[43m    \u001b[49m\u001b[43mtitle\u001b[49m\u001b[43m,\u001b[49m\n\u001b[32m    160\u001b[39m \u001b[43m    \u001b[49m\u001b[43max\u001b[49m\u001b[43m,\u001b[49m\n\u001b[32m    161\u001b[39m \u001b[43m    \u001b[49m\u001b[43mfilename\u001b[49m\u001b[43m,\u001b[49m\n\u001b[32m    162\u001b[39m \u001b[43m    \u001b[49m\u001b[43mkind\u001b[49m\u001b[43m=\u001b[49m\u001b[43mkind\u001b[49m\u001b[43m,\u001b[49m\n\u001b[32m    163\u001b[39m \u001b[43m\u001b[49m\u001b[43m)\u001b[49m\n",
      "\u001b[36mFile \u001b[39m\u001b[32mc:\\Users\\ianre\\miniconda3\\envs\\cwq\\Lib\\site-packages\\qiskit\\utils\\lazy_tester.py:165\u001b[39m, in \u001b[36mLazyDependencyManager.require_in_call.<locals>.out\u001b[39m\u001b[34m(*args, **kwargs)\u001b[39m\n\u001b[32m    162\u001b[39m \u001b[38;5;129m@functools\u001b[39m.wraps(function)\n\u001b[32m    163\u001b[39m \u001b[38;5;28;01mdef\u001b[39;00m\u001b[38;5;250m \u001b[39m\u001b[34mout\u001b[39m(*args, **kwargs):\n\u001b[32m    164\u001b[39m     \u001b[38;5;28mself\u001b[39m.require_now(feature)\n\u001b[32m--> \u001b[39m\u001b[32m165\u001b[39m     \u001b[38;5;28;01mreturn\u001b[39;00m \u001b[43mfunction\u001b[49m\u001b[43m(\u001b[49m\u001b[43m*\u001b[49m\u001b[43margs\u001b[49m\u001b[43m,\u001b[49m\u001b[43m \u001b[49m\u001b[43m*\u001b[49m\u001b[43m*\u001b[49m\u001b[43mkwargs\u001b[49m\u001b[43m)\u001b[49m\n",
      "\u001b[36mFile \u001b[39m\u001b[32mc:\\Users\\ianre\\miniconda3\\envs\\cwq\\Lib\\site-packages\\qiskit\\visualization\\counts_visualization.py:334\u001b[39m, in \u001b[36m_plotting_core\u001b[39m\u001b[34m(data, figsize, color, number_to_keep, sort, target_string, legend, bar_labels, title, ax, filename, kind)\u001b[39m\n\u001b[32m    331\u001b[39m length = \u001b[38;5;28mlen\u001b[39m(data)\n\u001b[32m    332\u001b[39m width = \u001b[32m1\u001b[39m / (\u001b[38;5;28mlen\u001b[39m(data) + \u001b[32m1\u001b[39m)  \u001b[38;5;66;03m# the width of the bars\u001b[39;00m\n\u001b[32m--> \u001b[39m\u001b[32m334\u001b[39m labels_dict, all_pvalues, all_inds = \u001b[43m_plot_data\u001b[49m\u001b[43m(\u001b[49m\u001b[43mdata\u001b[49m\u001b[43m,\u001b[49m\u001b[43m \u001b[49m\u001b[43mlabels\u001b[49m\u001b[43m,\u001b[49m\u001b[43m \u001b[49m\u001b[43mnumber_to_keep\u001b[49m\u001b[43m,\u001b[49m\u001b[43m \u001b[49m\u001b[43mkind\u001b[49m\u001b[43m=\u001b[49m\u001b[43mkind\u001b[49m\u001b[43m)\u001b[49m\n\u001b[32m    335\u001b[39m rects = []\n\u001b[32m    336\u001b[39m \u001b[38;5;28;01mfor\u001b[39;00m item, _ \u001b[38;5;129;01min\u001b[39;00m \u001b[38;5;28menumerate\u001b[39m(data):\n",
      "\u001b[36mFile \u001b[39m\u001b[32mc:\\Users\\ianre\\miniconda3\\envs\\cwq\\Lib\\site-packages\\qiskit\\visualization\\counts_visualization.py:478\u001b[39m, in \u001b[36m_plot_data\u001b[39m\u001b[34m(data, labels, number_to_keep, kind)\u001b[39m\n\u001b[32m    476\u001b[39m         values.append(execution[key])\n\u001b[32m    477\u001b[39m \u001b[38;5;28;01mif\u001b[39;00m kind == \u001b[33m\"\u001b[39m\u001b[33mcounts\u001b[39m\u001b[33m\"\u001b[39m:\n\u001b[32m--> \u001b[39m\u001b[32m478\u001b[39m     pvalues = \u001b[43mnp\u001b[49m\u001b[43m.\u001b[49m\u001b[43marray\u001b[49m\u001b[43m(\u001b[49m\u001b[43mvalues\u001b[49m\u001b[43m,\u001b[49m\u001b[43m \u001b[49m\u001b[43mdtype\u001b[49m\u001b[43m=\u001b[49m\u001b[38;5;28;43mint\u001b[39;49m\u001b[43m)\u001b[49m\n\u001b[32m    479\u001b[39m \u001b[38;5;28;01melse\u001b[39;00m:\n\u001b[32m    480\u001b[39m     pvalues = np.array(values, dtype=\u001b[38;5;28mfloat\u001b[39m)\n",
      "\u001b[31mTypeError\u001b[39m: int() argument must be a string, a bytes-like object or a real number, not 'Counts'"
     ]
    },
    {
     "data": {
      "image/png": "[encoded data removed]",
      "text/plain": [
       "<Figure size 640x480 with 1 Axes>"
      ]
     },
     "metadata": {},
     "output_type": "display_data"
    }
   ],
   "source": [
    "plot_histogram(counts)"
   ]
  },
  {
   "cell_type": "code",
   "execution_count": null,
   "id": "8282b768",
   "metadata": {},
   "outputs": [],
   "source": []
  }
 ],
 "metadata": {
  "kernelspec": {
   "display_name": "cwq",
   "language": "python",
   "name": "python3"
  },
  "language_info": {
   "codemirror_mode": {
    "name": "ipython",
    "version": 3
   },
   "file_extension": ".py",
   "mimetype": "text/x-python",
   "name": "python",
   "nbconvert_exporter": "python",
   "pygments_lexer": "ipython3",
   "version": "3.13.2"
  }
 },
 "nbformat": 4,
 "nbformat_minor": 5
}
