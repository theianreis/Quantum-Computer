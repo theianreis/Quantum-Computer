{
 "cells": [
  {
   "cell_type": "code",
   "execution_count": 2,
   "id": "8fc261e8",
   "metadata": {},
   "outputs": [],
   "source": [
    "from qutip import *\n",
    "import numpy as np"
   ]
  },
  {
   "cell_type": "code",
   "execution_count": 10,
   "id": "8de8004b",
   "metadata": {},
   "outputs": [
    {
     "ename": "TypeError",
     "evalue": "incompatible dimensions [[4], [4]] and [[2, 2], [1]]",
     "output_type": "error",
     "traceback": [
      "\u001b[31m---------------------------------------------------------------------------\u001b[39m",
      "\u001b[31mTypeError\u001b[39m                                 Traceback (most recent call last)",
      "\u001b[36mCell\u001b[39m\u001b[36m \u001b[39m\u001b[32mIn[10]\u001b[39m\u001b[32m, line 37\u001b[39m\n\u001b[32m     35\u001b[39m H1 = tensor(H, qeye(\u001b[32m2\u001b[39m))   \u001b[38;5;66;03m# aplica H só no primeiro qubit\u001b[39;00m\n\u001b[32m     36\u001b[39m psi_1 = H1 * psi_0\n\u001b[32m---> \u001b[39m\u001b[32m37\u001b[39m psi_2 = \u001b[43mCNOT_manual\u001b[49m\u001b[43m*\u001b[49m\u001b[43mpsi_1\u001b[49m\n\u001b[32m     39\u001b[39m \u001b[38;5;66;03m#Criação da Base de Bell\u001b[39;00m\n\u001b[32m     40\u001b[39m psi_3 = CNOT_manual*psi_2\n",
      "\u001b[36mFile \u001b[39m\u001b[32mc:\\Users\\ianre\\miniconda3\\envs\\cwq\\Lib\\site-packages\\qutip\\core\\qobj.py:424\u001b[39m, in \u001b[36mQobj.__mul__\u001b[39m\u001b[34m(self, other)\u001b[39m\n\u001b[32m    417\u001b[39m \u001b[38;5;250m\u001b[39m\u001b[33;03m\"\"\"\u001b[39;00m\n\u001b[32m    418\u001b[39m \u001b[33;03mIf other is a Qobj, we dispatch to __matmul__. If not, we\u001b[39;00m\n\u001b[32m    419\u001b[39m \u001b[33;03mcheck that other is a valid complex scalar, i.e., we can do\u001b[39;00m\n\u001b[32m    420\u001b[39m \u001b[33;03mcomplex(other). Otherwise, we return NotImplemented.\u001b[39;00m\n\u001b[32m    421\u001b[39m \u001b[33;03m\"\"\"\u001b[39;00m\n\u001b[32m    423\u001b[39m \u001b[38;5;28;01mif\u001b[39;00m \u001b[38;5;28misinstance\u001b[39m(other, Qobj):\n\u001b[32m--> \u001b[39m\u001b[32m424\u001b[39m     \u001b[38;5;28;01mreturn\u001b[39;00m \u001b[38;5;28;43mself\u001b[39;49m\u001b[43m.\u001b[49m\u001b[34;43m__matmul__\u001b[39;49m\u001b[43m(\u001b[49m\u001b[43mother\u001b[49m\u001b[43m)\u001b[49m\n\u001b[32m    426\u001b[39m \u001b[38;5;66;03m# We send other to mul instead of complex(other) to be more flexible.\u001b[39;00m\n\u001b[32m    427\u001b[39m \u001b[38;5;66;03m# The dispatcher can then decide how to handle other and return\u001b[39;00m\n\u001b[32m    428\u001b[39m \u001b[38;5;66;03m# TypeError if it does not know what to do with the type of other.\u001b[39;00m\n\u001b[32m    429\u001b[39m \u001b[38;5;28;01mtry\u001b[39;00m:\n",
      "\u001b[36mFile \u001b[39m\u001b[32mc:\\Users\\ianre\\miniconda3\\envs\\cwq\\Lib\\site-packages\\qutip\\core\\qobj.py:461\u001b[39m, in \u001b[36mQobj.__matmul__\u001b[39m\u001b[34m(self, other)\u001b[39m\n\u001b[32m    459\u001b[39m     \u001b[38;5;28;01mexcept\u001b[39;00m \u001b[38;5;167;01mTypeError\u001b[39;00m:\n\u001b[32m    460\u001b[39m         \u001b[38;5;28;01mreturn\u001b[39;00m \u001b[38;5;28mNotImplemented\u001b[39m\n\u001b[32m--> \u001b[39m\u001b[32m461\u001b[39m new_dims = \u001b[38;5;28;43mself\u001b[39;49m\u001b[43m.\u001b[49m\u001b[43m_dims\u001b[49m\u001b[43m \u001b[49m\u001b[43m@\u001b[49m\u001b[43m \u001b[49m\u001b[43mother\u001b[49m\u001b[43m.\u001b[49m\u001b[43m_dims\u001b[49m\n\u001b[32m    462\u001b[39m \u001b[38;5;28;01mif\u001b[39;00m new_dims.type == \u001b[33m'\u001b[39m\u001b[33mscalar\u001b[39m\u001b[33m'\u001b[39m:\n\u001b[32m    463\u001b[39m     \u001b[38;5;28;01mreturn\u001b[39;00m _data.inner(\u001b[38;5;28mself\u001b[39m._data, other._data)\n",
      "\u001b[36mFile \u001b[39m\u001b[32mc:\\Users\\ianre\\miniconda3\\envs\\cwq\\Lib\\site-packages\\qutip\\core\\dimensions.py:800\u001b[39m, in \u001b[36mDimensions.__matmul__\u001b[39m\u001b[34m(self, other)\u001b[39m\n\u001b[32m    798\u001b[39m \u001b[38;5;28;01mdef\u001b[39;00m\u001b[38;5;250m \u001b[39m\u001b[34m__matmul__\u001b[39m(\u001b[38;5;28mself\u001b[39m, other: \u001b[33m\"\u001b[39m\u001b[33mDimensions\u001b[39m\u001b[33m\"\u001b[39m) -> \u001b[33m\"\u001b[39m\u001b[33mDimensions\u001b[39m\u001b[33m\"\u001b[39m:\n\u001b[32m    799\u001b[39m     \u001b[38;5;28;01mif\u001b[39;00m \u001b[38;5;28mself\u001b[39m.from_ != other.to_:\n\u001b[32m--> \u001b[39m\u001b[32m800\u001b[39m         \u001b[38;5;28;01mraise\u001b[39;00m \u001b[38;5;167;01mTypeError\u001b[39;00m(\u001b[33mf\u001b[39m\u001b[33m\"\u001b[39m\u001b[33mincompatible dimensions \u001b[39m\u001b[38;5;132;01m{\u001b[39;00m\u001b[38;5;28mself\u001b[39m\u001b[38;5;132;01m}\u001b[39;00m\u001b[33m and \u001b[39m\u001b[38;5;132;01m{\u001b[39;00mother\u001b[38;5;132;01m}\u001b[39;00m\u001b[33m\"\u001b[39m)\n\u001b[32m    801\u001b[39m     args = other.from_, \u001b[38;5;28mself\u001b[39m.to_\n\u001b[32m    802\u001b[39m     \u001b[38;5;28;01mif\u001b[39;00m args \u001b[38;5;129;01min\u001b[39;00m Dimensions._stored_dims:\n",
      "\u001b[31mTypeError\u001b[39m: incompatible dimensions [[4], [4]] and [[2, 2], [1]]"
     ]
    }
   ],
   "source": [
    "psi_0 = tensor(basis(2,0), basis(2,0))\n",
    "\n",
    "\n",
    "\n",
    "###### Definição da portas ######\n",
    "# Definição da porta Hadamard\n",
    "H = (1/np.sqrt(2))* Qobj([[1,1],\n",
    "                        [1,-1]])\n",
    "\n",
    "# Definição das portas de Pauli e identidade \n",
    "X = sigmax()\n",
    "Y = sigmay()\n",
    "Z = sigmaz()\n",
    "I = qeye(2)\n",
    "\n",
    "# Definição da CNOT\n",
    "CNOT_manual = Qobj([[1,0,0,0],\n",
    "                    [0,1,0,0],\n",
    "                    [0,0,0,1],\n",
    "                    [0,0,1,0]])\n",
    "\n",
    "# Definição das portas controladoras \n",
    "\n",
    "## Borboletas \n",
    "P0 = basis(2,0)*basis(2,0).dag()\n",
    "P1 = basis(2,1)*basis(2,1).dag()\n",
    "\n",
    "## Definir condicional \n",
    "\n",
    "U_conditional_X = tensor(P0,I) + tensor(P1,X)\n",
    "U_conditional_Z = tensor(P0,I) + tensor(P1,Z)\n",
    "\n",
    "######### Circuito #########\n",
    "#Criação do par EPR\n",
    "H1 = tensor(H, qeye(2))   # aplica H só no primeiro qubit\n",
    "psi_1 = H1 * psi_0\n",
    "psi_2 = CNOT_manual*psi_1\n",
    "\n",
    "#Criação da Base de Bell\n",
    "psi_3 = CNOT_manual*psi_2\n",
    "psi_4 = H*psi_3\n"
   ]
  }
 ],
 "metadata": {
  "kernelspec": {
   "display_name": "cwq",
   "language": "python",
   "name": "python3"
  },
  "language_info": {
   "codemirror_mode": {
    "name": "ipython",
    "version": 3
   },
   "file_extension": ".py",
   "mimetype": "text/x-python",
   "name": "python",
   "nbconvert_exporter": "python",
   "pygments_lexer": "ipython3",
   "version": "3.13.2"
  }
 },
 "nbformat": 4,
 "nbformat_minor": 5
}
