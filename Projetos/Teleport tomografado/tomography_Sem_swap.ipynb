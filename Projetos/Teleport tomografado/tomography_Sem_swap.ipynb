{
 "cells": [
  {
   "cell_type": "code",
   "execution_count": 1,
   "id": "63e3359b",
   "metadata": {},
   "outputs": [],
   "source": [
    "from qiskit import *\n",
    "from qiskit_aer import AerSimulator\n",
    "from function_Tomography import tomography\n",
    "import numpy as np"
   ]
  },
  {
   "cell_type": "code",
   "execution_count": null,
   "id": "2f6e81e7",
   "metadata": {},
   "outputs": [],
   "source": [
    "Alice = QuantumRegister(1,'Alice')\n",
    "Bob = QuantumRegister(1,'Bob')\n",
    "Secret = QuantumRegister(1,'Secret')\n",
    "classical = ClassicalRegister(2, 'c')\n",
    "\n",
    "circuit = QuantumCircuit(Secret,Alice,Bob,classical)\n",
    "\n",
    "    # Se n>0, adiciona registrador extra \"ext\" com n qubits\n",
    "    if n > 0:\n",
    "        ext = QuantumRegister(n, 'ext')\n",
    "        circuit = QuantumCircuit(Secret, Alice, Bob, ext, classical)\n",
    "    else:\n",
    "        circuit = QuantumCircuit(Secret, Alice, Bob, classical)\n",
    "    \n",
    "    #EPR\n",
    "    circuit.h(Alice)\n",
    "    circuit.cx(Alice,Bob)\n",
    "    circuit.barrier()\n",
    "\n",
    "    # swaps\n",
    "    if n > 0:\n",
    "        circuit.swap(Bob[0], ext[0])\n",
    "        for i in range(1, n):\n",
    "            circuit.swap(ext[i - 1], ext[i])\n",
    "        final_target = ext[n - 1]\n",
    "    else:\n",
    "        final_target = Bob[0]\n",
    "\n",
    "\n",
    "    #Passa a informação\n",
    "    circuit.barrier()\n",
    "    circuit.h(Secret)\n",
    "    circuit.barrier()\n",
    "\n",
    "    #Misturas de Estados\n",
    "    circuit.cx(Secret,Alice)\n",
    "    circuit.h(Secret)\n",
    "    circuit.barrier()\n",
    "\n",
    "    #Medições\n",
    "    circuit.measure(Alice, classical[1])\n",
    "    circuit.measure(Secret, classical[0])\n",
    "    circuit.barrier()\n",
    "\n",
    "    # Correções condicionais usando if_test()\n",
    "    with circuit.if_test((classical, 1)):\n",
    "        circuit.x(final_target)\n",
    "\n",
    "    with circuit.if_test((classical, 2)):\n",
    "        circuit.z(final_target)\n",
    "    \n",
    "    circuit.barrier()\n",
    "    circuit.h(final_target)"
   ]
  }
 ],
 "metadata": {
  "kernelspec": {
   "display_name": "cwq",
   "language": "python",
   "name": "python3"
  },
  "language_info": {
   "codemirror_mode": {
    "name": "ipython",
    "version": 3
   },
   "file_extension": ".py",
   "mimetype": "text/x-python",
   "name": "python",
   "nbconvert_exporter": "python",
   "pygments_lexer": "ipython3",
   "version": "3.13.2"
  }
 },
 "nbformat": 4,
 "nbformat_minor": 5
}
