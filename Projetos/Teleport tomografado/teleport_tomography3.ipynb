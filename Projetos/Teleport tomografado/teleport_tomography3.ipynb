{
 "cells": [
  {
   "cell_type": "code",
   "execution_count": 2,
   "id": "705fb2e4",
   "metadata": {},
   "outputs": [],
   "source": [
    "from qiskit import QuantumCircuit, QuantumRegister, ClassicalRegister, transpile\n",
    "from qiskit_aer import AerSimulator\n",
    "from qiskit_aer.noise import NoiseModel\n",
    "from qiskit_ibm_runtime import QiskitRuntimeService\n",
    "from qiskit.primitives import BackendSamplerV2\n",
    "import numpy as np"
   ]
  },
  {
   "cell_type": "code",
   "execution_count": 3,
   "id": "54cc590e",
   "metadata": {},
   "outputs": [
    {
     "name": "stderr",
     "output_type": "stream",
     "text": [
      "qiskit_runtime_service._resolve_cloud_instances:WARNING:2025-08-05 17:27:09,722: Default instance not set. Searching all available instances.\n"
     ]
    },
    {
     "name": "stdout",
     "output_type": "stream",
     "text": [
      "<IBMBackend('ibm_brisbane')>\n"
     ]
    }
   ],
   "source": [
    "service = QiskitRuntimeService()\n",
    "backend = service.least_busy(operational=True,\n",
    "                             simulator=False,\n",
    "                             min_num_qubits=127)\n",
    "\n",
    "noise_model = NoiseModel.from_backend(backend)\n",
    "print(backend)\n",
    "backend_simulator = AerSimulator(noise_model=noise_model)\n",
    "sampler = BackendSamplerV2(backend=backend_simulator)\n",
    "backend = AerSimulator()"
   ]
  },
  {
   "cell_type": "code",
   "execution_count": 4,
   "id": "ea2b21f6",
   "metadata": {},
   "outputs": [],
   "source": [
    "def function_tel_tomography(n=0, shots=1000):\n",
    "    # Registradores quânticos\n",
    "    Alice = QuantumRegister(1, 'Alice')\n",
    "    Bob = QuantumRegister(1, 'Bob')\n",
    "    Secret = QuantumRegister(1, 'Secret')\n",
    "    c = ClassicalRegister(3, 'c')  # c[0] = Secret, c[1] = Alice, c[2] = tomografia\n",
    "\n",
    "    if n > 0:\n",
    "        ext = QuantumRegister(n, 'ext')\n",
    "        circuit = QuantumCircuit(Secret, Alice, Bob, ext, c)\n",
    "    else:\n",
    "        circuit = QuantumCircuit(Secret, Alice, Bob, c)\n",
    "\n",
    "    # EPR\n",
    "    circuit.h(Alice)\n",
    "    circuit.cx(Alice, Bob)\n",
    "    circuit.barrier()\n",
    "\n",
    "    # Swaps\n",
    "    if n > 0:\n",
    "        circuit.swap(Bob[0], ext[0])\n",
    "        for i in range(1, n):\n",
    "            circuit.swap(ext[i - 1], ext[i])\n",
    "        final_target = ext[n - 1]\n",
    "    else:\n",
    "        final_target = Bob[0]\n",
    "\n",
    "    # Estado secreto: H|0> = |+>\n",
    "    circuit.barrier()\n",
    "    circuit.h(Secret)\n",
    "    circuit.barrier()\n",
    "\n",
    "    # Entrelançamento e medições\n",
    "    circuit.cx(Secret, Alice)\n",
    "    circuit.h(Secret)\n",
    "    circuit.barrier()\n",
    "\n",
    "    circuit.measure(Alice, c[0])\n",
    "    circuit.measure(Secret, c[1])\n",
    "    circuit.barrier()\n",
    "\n",
    "    # Correções condicionais baseadas nas medições\n",
    "    with circuit.if_test((c[1], 1)):  # Se Alice medir 1, aplicar Z\n",
    "        circuit.z(final_target)\n",
    "\n",
    "    with circuit.if_test((c[0], 1)):  # Se Secret medir 1, aplicar X\n",
    "        circuit.x(final_target)\n",
    "\n",
    "    # =============== TOMOGRAFIA DIRETA ===============\n",
    "    pauli_list = [\n",
    "        np.eye(2),\n",
    "        np.array([[0.0, 1.0], [1.0, 0.0]]),       # X\n",
    "        np.array([[0, -1.0j], [1.0j, 0.0]]),      # Y\n",
    "        np.array([[1.0, 0.0], [0.0, -1.0]])       # Z\n",
    "    ]\n",
    "    expectation_values = {}\n",
    "    all_counts = {}\n",
    "\n",
    "    for base in ['X', 'Y', 'Z']:\n",
    "        circ = circuit.copy()\n",
    "\n",
    "        # Aplica a rotação de base antes da medição\n",
    "        if base == 'X':\n",
    "            circ.h(final_target)\n",
    "        elif base == 'Y':\n",
    "            circ.sdg(final_target)\n",
    "            circ.h(final_target)\n",
    "\n",
    "        # Mede o qubit final no registrador c[2]\n",
    "        circ.measure(final_target, c[2])\n",
    "\n",
    "        transpiled = transpile(circ, backend)\n",
    "        result = backend.run(transpiled, shots=shots).result()\n",
    "        counts = result.get_counts()\n",
    "\n",
    "        p0 = sum(cnt for bits, cnt in counts.items() if bits[0]=='0')\n",
    "        p1 = sum(cnt for bits, cnt in counts.items() if bits[0]=='1')\n",
    "        total = p0 + p1 or 1\n",
    "        expectation_values[base] = (p0 - p1) / total\n",
    "        all_counts[base] = counts\n",
    "\n",
    "    # Reconstrução da matriz densidade\n",
    "    rho = 0.5 * (\n",
    "        pauli_list[0]\n",
    "        + expectation_values['X'] * pauli_list[1]\n",
    "        + expectation_values['Y'] * pauli_list[2]\n",
    "        + expectation_values['Z'] * pauli_list[3]\n",
    "    )\n",
    "\n",
    "    return rho, expectation_values, circuit\n"
   ]
  },
  {
   "cell_type": "code",
   "execution_count": 10,
   "id": "e30ec2dc",
   "metadata": {},
   "outputs": [
    {
     "name": "stdout",
     "output_type": "stream",
     "text": [
      "Matriz densidade reconstruída:\n",
      "[[0.49805+0.j      0.5    -0.00332j]\n",
      " [0.5    +0.00332j 0.50195+0.j     ]]\n",
      "Valores esperados:\n",
      "{'X': 1.0, 'Y': 0.00664, 'Z': -0.0039}\n"
     ]
    }
   ],
   "source": [
    "rho, exps, circ = function_tel_tomography(n=0,shots=100000)\n",
    "print(\"Matriz densidade reconstruída:\")\n",
    "print(rho)\n",
    "\n",
    "print(\"Valores esperados:\")\n",
    "print(exps)\n"
   ]
  }
 ],
 "metadata": {
  "kernelspec": {
   "display_name": "cwq",
   "language": "python",
   "name": "python3"
  },
  "language_info": {
   "codemirror_mode": {
    "name": "ipython",
    "version": 3
   },
   "file_extension": ".py",
   "mimetype": "text/x-python",
   "name": "python",
   "nbconvert_exporter": "python",
   "pygments_lexer": "ipython3",
   "version": "3.13.2"
  }
 },
 "nbformat": 4,
 "nbformat_minor": 5
}
