{
 "cells": [
  {
   "cell_type": "code",
   "execution_count": 1,
   "id": "9145572f",
   "metadata": {},
   "outputs": [],
   "source": [
    "import numpy as np\n",
    "from qiskit import *\n",
    "from qiskit_aer import AerSimulator\n",
    "from qiskit_aer.noise import NoiseModel\n",
    "from qiskit_ibm_runtime import QiskitRuntimeService\n",
    "from qiskit.primitives import BackendSamplerV2\n",
    "from qiskit_aer import AerSimulator\n",
    "from qiskit_ibm_runtime.fake_provider import FakeBrisbane"
   ]
  },
  {
   "cell_type": "code",
   "execution_count": 2,
   "id": "c03d42eb",
   "metadata": {},
   "outputs": [],
   "source": [
    "I = np.eye(2)\n",
    "X = np.array([[0, 1], [1, 0]])\n",
    "Y = np.array([[0, -1j], [1j, 0]])\n",
    "Z = np.array([[1, 0], [0, -1]])"
   ]
  },
  {
   "cell_type": "code",
   "execution_count": 3,
   "id": "e281b978",
   "metadata": {},
   "outputs": [],
   "source": [
    "backend = AerSimulator()"
   ]
  },
  {
   "cell_type": "code",
   "execution_count": null,
   "id": "246c3d7b",
   "metadata": {},
   "outputs": [],
   "source": [
    "def tomography(circuit, target, shots):\n",
    "    bases = ['X', 'Y', 'Z']\n",
    "    results = {}\n",
    "\n",
    "    for base in bases:\n",
    "        circ = circuit.copy()\n",
    "        \n",
    "        creg = ClassicalRegister(1)\n",
    "        circ.add_register(creg)\n",
    "\n",
    "        if base == 'X':\n",
    "            circ.h(target)\n",
    "        elif base == 'Y':\n",
    "            circ.sdg(target)\n",
    "            circ.h(target)\n",
    "        elif base == 'Z':\n",
    "            pass\n",
    "        \n",
    "        circ.measure(target, creg[0])\n",
    "\n",
    "        transpiled = transpile(circ, backend)\n",
    "        job = backend.run(transpiled,shots=shots)\n",
    "        result = job.result()\n",
    "        counts = result.get_counts()\n",
    "\n",
    "        p0 = counts.get('0', 0) / shots\n",
    "        p1 = counts.get('1', 0) / shots\n",
    "\n",
    "        results[base] = p0 - p1\n",
    "\n",
    "\n",
    "    rho = 0.5 * (I + results['X'] * X + results['Y'] * Y + results['Z'] * Z)\n",
    "    return rho, results"
   ]
  },
  {
   "cell_type": "code",
   "execution_count": 6,
   "id": "37c10ad4",
   "metadata": {},
   "outputs": [],
   "source": [
    "def extend_circuit(base_circuit, num_extra_qubits, ext_name='ext'):\n",
    "    qc_extended = base_circuit.copy()\n",
    "    ext = QuantumRegister(num_extra_qubits, ext_name)\n",
    "    qc_extended.add_register(ext)\n",
    "    return qc_extended\n",
    "\n",
    "def apply_swap_chain(circuit, start_qubit, num_swaps):\n",
    "    for i in range(num_swaps):\n",
    "        circuit.swap(start_qubit + i, start_qubit + i + 1)\n",
    "    return circuit\n",
    "\n",
    "def entenglament(n=0):\n",
    "    Alice = QuantumRegister(1, 'Alice')\n",
    "    Bob = QuantumRegister(1, 'Bob')\n",
    "    circuit = QuantumCircuit(Alice, Bob)\n",
    "\n",
    "    # Par emaranhado\n",
    "    circuit.h(Alice)\n",
    "    circuit.cx(Alice, Bob)\n",
    "\n",
    "    circuit_ex = extend_circuit(circuit,n)\n",
    "    circuit_swapado = apply_swap_chain(circuit_ex,start_qubit=1,num_swaps=n)\n",
    "\n",
    "    circuit = circuit_swapado.copy()\n",
    "\n",
    "    return circuit"
   ]
  },
  {
   "cell_type": "code",
   "execution_count": 7,
   "id": "80e453a5",
   "metadata": {},
   "outputs": [],
   "source": [
    "circuit = entenglament(n=2)\n",
    "rho_1 = tomography(circuit=circuit,target=0,shots=1000)\n",
    "rho_2 = tomography(circuit=circuit,target=1,shots=1000)\n",
    "rho_3 = tomography(circuit=circuit,target=2,shots=1000)\n",
    "rho_4 = tomography(circuit=circuit,target=3, shots=1000)\n"
   ]
  },
  {
   "cell_type": "code",
   "execution_count": 8,
   "id": "0a9cc73e",
   "metadata": {},
   "outputs": [
    {
     "name": "stdout",
     "output_type": "stream",
     "text": [
      "(array([[ 0.501+0.j   , -0.01 +0.003j],\n",
      "       [-0.01 -0.003j,  0.499+0.j   ]]), {'X': -0.020000000000000018, 'Y': -0.006000000000000005, 'Z': 0.0020000000000000018})\n",
      "(array([[ 1.   +0.j   , -0.019-0.002j],\n",
      "       [-0.019+0.002j,  0.   +0.j   ]]), {'X': -0.038000000000000034, 'Y': 0.0040000000000000036, 'Z': 1.0})\n",
      "(array([[ 1.   +0.j   , -0.019-0.003j],\n",
      "       [-0.019+0.003j,  0.   +0.j   ]]), {'X': -0.038000000000000034, 'Y': 0.006000000000000005, 'Z': 1.0})\n",
      "(array([[ 0.524+0.j   , -0.008-0.016j],\n",
      "       [-0.008+0.016j,  0.476+0.j   ]]), {'X': -0.016000000000000014, 'Y': 0.03200000000000003, 'Z': 0.04800000000000004})\n"
     ]
    }
   ],
   "source": [
    "print(rho_1)\n",
    "print(rho_2)\n",
    "print(rho_3)\n",
    "print(rho_4)"
   ]
  }
 ],
 "metadata": {
  "kernelspec": {
   "display_name": "cwq",
   "language": "python",
   "name": "python3"
  },
  "language_info": {
   "codemirror_mode": {
    "name": "ipython",
    "version": 3
   },
   "file_extension": ".py",
   "mimetype": "text/x-python",
   "name": "python",
   "nbconvert_exporter": "python",
   "pygments_lexer": "ipython3",
   "version": "3.13.2"
  }
 },
 "nbformat": 4,
 "nbformat_minor": 5
}
