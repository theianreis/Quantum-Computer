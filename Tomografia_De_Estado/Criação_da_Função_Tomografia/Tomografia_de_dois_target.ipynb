{
 "cells": [
  {
   "cell_type": "code",
   "execution_count": 8,
   "id": "942148c8",
   "metadata": {},
   "outputs": [],
   "source": [
    "from qiskit import *\n",
    "import numpy as np\n",
    "from qiskit_aer import AerSimulator"
   ]
  },
  {
   "cell_type": "code",
   "execution_count": 9,
   "id": "ed13fee9",
   "metadata": {},
   "outputs": [],
   "source": [
    "pi = np.pi"
   ]
  },
  {
   "cell_type": "code",
   "execution_count": 10,
   "id": "67637106",
   "metadata": {},
   "outputs": [
    {
     "data": {
      "image/png": "[encoded data removed]",
      "text/plain": [
       "<Figure size 621.739x200.667 with 1 Axes>"
      ]
     },
     "execution_count": 10,
     "metadata": {},
     "output_type": "execute_result"
    }
   ],
   "source": [
    "Bell = QuantumCircuit(2)\n",
    "Bell.h(0)\n",
    "Bell.cx(0,1)\n",
    "Bell.x(1)\n",
    "Bell.z(1)\n",
    "Bell.barrier()\n",
    "Bell.ry(-pi/2,0)\n",
    "Bell.ry(-pi/2,1)\n",
    "Bell.draw('mpl')"
   ]
  },
  {
   "cell_type": "code",
   "execution_count": 11,
   "id": "b8947b5e",
   "metadata": {},
   "outputs": [],
   "source": [
    "combined = {\n",
    "    'ZX': (Bell.ry(-pi/2,1)),\n",
    "    'ZY': (Bell.rx(-pi/2,1)),\n",
    "    'ZZ': (Bell),\n",
    "    'XX': (Bell.ry(-pi/2,0), Bell.ry(-pi/2,1)),\n",
    "    'XY': (Bell.ry(-pi/2,0),Bell.rx(-pi/2,1)),\n",
    "    'XZ': (Bell.ry(-pi/2,0)),\n",
    "    'YX': (Bell.rx(-pi/2,0),Bell.ry(-pi/2,1)),\n",
    "    'YY': (Bell.rx(-pi/2,0),Bell.rx(-pi/2,1)),\n",
    "    'YZ': (Bell.rx(-pi/2,0))\n",
    "}"
   ]
  },
  {
   "cell_type": "code",
   "execution_count": 12,
   "id": "062aad26",
   "metadata": {},
   "outputs": [
    {
     "name": "stdout",
     "output_type": "stream",
     "text": [
      "ZX =\n",
      "[[ 0.+0.j  1.+0.j  0.+0.j  0.+0.j]\n",
      " [ 1.+0.j  0.+0.j  0.+0.j  0.+0.j]\n",
      " [ 0.+0.j  0.+0.j -0.+0.j -1.+0.j]\n",
      " [ 0.+0.j  0.+0.j -1.+0.j -0.+0.j]]\n",
      "\n",
      "ZY =\n",
      "[[ 0.+0.j  0.-1.j  0.+0.j  0.-0.j]\n",
      " [ 0.+1.j  0.+0.j  0.+0.j  0.+0.j]\n",
      " [ 0.+0.j  0.-0.j -0.+0.j  0.+1.j]\n",
      " [ 0.+0.j  0.+0.j -0.-1.j -0.+0.j]]\n",
      "\n",
      "ZZ =\n",
      "[[ 1.+0.j  0.+0.j  0.+0.j  0.+0.j]\n",
      " [ 0.+0.j -1.+0.j  0.+0.j -0.+0.j]\n",
      " [ 0.+0.j  0.+0.j -1.+0.j -0.+0.j]\n",
      " [ 0.+0.j -0.+0.j -0.+0.j  1.-0.j]]\n",
      "\n",
      "XX =\n",
      "[[0.+0.j 0.+0.j 0.+0.j 1.+0.j]\n",
      " [0.+0.j 0.+0.j 1.+0.j 0.+0.j]\n",
      " [0.+0.j 1.+0.j 0.+0.j 0.+0.j]\n",
      " [1.+0.j 0.+0.j 0.+0.j 0.+0.j]]\n",
      "\n",
      "XY =\n",
      "[[0.+0.j 0.-0.j 0.+0.j 0.-1.j]\n",
      " [0.+0.j 0.+0.j 0.+1.j 0.+0.j]\n",
      " [0.+0.j 0.-1.j 0.+0.j 0.-0.j]\n",
      " [0.+1.j 0.+0.j 0.+0.j 0.+0.j]]\n",
      "\n",
      "XZ =\n",
      "[[ 0.+0.j  0.+0.j  1.+0.j  0.+0.j]\n",
      " [ 0.+0.j -0.+0.j  0.+0.j -1.+0.j]\n",
      " [ 1.+0.j  0.+0.j  0.+0.j  0.+0.j]\n",
      " [ 0.+0.j -1.+0.j  0.+0.j -0.+0.j]]\n",
      "\n",
      "YX =\n",
      "[[0.+0.j 0.+0.j 0.-0.j 0.-1.j]\n",
      " [0.+0.j 0.+0.j 0.-1.j 0.-0.j]\n",
      " [0.+0.j 0.+1.j 0.+0.j 0.+0.j]\n",
      " [0.+1.j 0.+0.j 0.+0.j 0.+0.j]]\n",
      "\n",
      "YY =\n",
      "[[ 0.+0.j  0.-0.j  0.-0.j -1.+0.j]\n",
      " [ 0.+0.j  0.+0.j  1.-0.j  0.-0.j]\n",
      " [ 0.+0.j  1.-0.j  0.+0.j  0.-0.j]\n",
      " [-1.+0.j  0.+0.j  0.+0.j  0.+0.j]]\n",
      "\n",
      "YZ =\n",
      "[[ 0.+0.j  0.+0.j  0.-1.j  0.-0.j]\n",
      " [ 0.+0.j -0.+0.j  0.-0.j  0.+1.j]\n",
      " [ 0.+1.j  0.+0.j  0.+0.j  0.+0.j]\n",
      " [ 0.+0.j -0.-1.j  0.+0.j -0.+0.j]]\n",
      "\n"
     ]
    }
   ],
   "source": [
    "import numpy as np\n",
    "\n",
    "# Matrizes de Pauli\n",
    "I = np.array([[1, 0], [0, 1]], dtype=complex)\n",
    "X = np.array([[0, 1], [1, 0]], dtype=complex)\n",
    "Y = np.array([[0, -1j], [1j, 0]], dtype=complex)\n",
    "Z = np.array([[1, 0], [0, -1]], dtype=complex)\n",
    "\n",
    "# Dicionário de portas\n",
    "pauli_dict = {\n",
    "    'I': I,\n",
    "    'X': X,\n",
    "    'Y': Y,\n",
    "    'Z': Z\n",
    "}\n",
    "\n",
    "# Lista de combinações\n",
    "combined = ['ZX','ZY','ZZ',\n",
    "            'XX','XY','XZ',\n",
    "            'YX','YY','YZ']\n",
    "\n",
    "# Produto de Kronecker\n",
    "tensor_products = {}\n",
    "\n",
    "for label in combined:\n",
    "    A = pauli_dict[label[0]]\n",
    "    B = pauli_dict[label[1]]\n",
    "    kron_product = np.kron(A, B)\n",
    "    tensor_products[label] = kron_product\n",
    "    print(f\"{label} =\\n{kron_product}\\n\")\n"
   ]
  },
  {
   "cell_type": "code",
   "execution_count": 14,
   "id": "0186d8a7",
   "metadata": {},
   "outputs": [],
   "source": [
    "backend = AerSimulator()"
   ]
  },
  {
   "cell_type": "code",
   "execution_count": 15,
   "id": "606ce285",
   "metadata": {},
   "outputs": [],
   "source": [
    "def expectation(counts):\n",
    "    total = sum(counts.values())\n",
    "    e = 0\n",
    "    for outcome, count in counts.items():\n",
    "        a, b = int(outcome[1]), int(outcome[0])  # Qiskit: bit 0 é o último\n",
    "        value = 1 if a == b else -1\n",
    "        e += value * count / total\n",
    "    return e"
   ]
  },
  {
   "cell_type": "code",
   "execution_count": 23,
   "id": "3ff13301",
   "metadata": {},
   "outputs": [],
   "source": [
    "def tomography(circuit, target_1,target_2,shots):\n",
    "    combined = ['ZX','ZY','ZZ',\n",
    "                'XX','XY','XZ',\n",
    "                'YX','YY','YZ']\n",
    "\n",
    "    for base in combined:\n",
    "        circ = circuit.copy()\n",
    "        result = {}\n",
    "\n",
    "        creg = ClassicalRegister(2)\n",
    "        circ.add_register(creg)\n",
    "\n",
    "        if base == 'ZX':\n",
    "            Bell.h(target_2)\n",
    "        elif base == 'ZY':\n",
    "            Bell.sdg(target_2)\n",
    "            Bell.h(target_2)\n",
    "        elif base == 'ZZ':\n",
    "            pass\n",
    "\n",
    "        elif base == 'XX':\n",
    "            Bell.h(target_1)\n",
    "            Bell.h(target_2)\n",
    "        elif base == 'XY':\n",
    "            Bell.h(target_1)\n",
    "            Bell.sdg(target_2)\n",
    "            Bell.h(target_2)\n",
    "        elif base == 'XZ':\n",
    "            Bell.h(target_1)\n",
    "\n",
    "        elif base == 'YX':\n",
    "            Bell.sdg(target_1)\n",
    "            Bell.h(target_1)\n",
    "            Bell.h(target_2)\n",
    "        elif base == 'YY':\n",
    "            Bell.sdg(target_1)\n",
    "            Bell.h(target_1)\n",
    "            Bell.sdg(target_2)\n",
    "            Bell.h(target_2)\n",
    "        elif base == 'YZ':\n",
    "            Bell.sdg(target_1)\n",
    "            Bell.h(target_1)\n",
    "\n",
    "        circ.measure(target_1, creg[0])\n",
    "        circ.measure(target_2, creg[1])\n",
    "\n",
    "        transpiled = transpile(circ, backend)\n",
    "        job = backend.run(transpiled, shots=shots)\n",
    "        counts = job.result().get_counts()\n",
    "        result[base] = counts\n",
    "\n",
    "        E = {label: expectation(c) for label, c in result.items()}\n",
    "\n",
    "        return E\n"
   ]
  },
  {
   "cell_type": "code",
   "execution_count": 25,
   "id": "de10b0bd",
   "metadata": {},
   "outputs": [
    {
     "name": "stdout",
     "output_type": "stream",
     "text": [
      "{'ZX': 0.0}\n"
     ]
    }
   ],
   "source": [
    "tomo = tomography(circuit=Bell, target_1=0,target_2=1,shots=1000)\n",
    "print(tomo)"
   ]
  },
  {
   "cell_type": "code",
   "execution_count": null,
   "id": "09ad67ce",
   "metadata": {},
   "outputs": [],
   "source": []
  }
 ],
 "metadata": {
  "kernelspec": {
   "display_name": "cwq",
   "language": "python",
   "name": "python3"
  },
  "language_info": {
   "codemirror_mode": {
    "name": "ipython",
    "version": 3
   },
   "file_extension": ".py",
   "mimetype": "text/x-python",
   "name": "python",
   "nbconvert_exporter": "python",
   "pygments_lexer": "ipython3",
   "version": "3.13.2"
  }
 },
 "nbformat": 4,
 "nbformat_minor": 5
}
