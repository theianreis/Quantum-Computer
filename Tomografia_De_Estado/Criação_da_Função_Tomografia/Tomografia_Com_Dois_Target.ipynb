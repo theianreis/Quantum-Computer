{
 "cells": [
  {
   "cell_type": "code",
   "execution_count": 28,
   "id": "bcc39db4",
   "metadata": {},
   "outputs": [],
   "source": [
    "from qiskit import *\n",
    "import numpy as np\n",
    "from qiskit_aer import AerSimulator"
   ]
  },
  {
   "cell_type": "code",
   "execution_count": 29,
   "id": "f47ee559",
   "metadata": {},
   "outputs": [],
   "source": [
    "pi = np.pi"
   ]
  },
  {
   "cell_type": "code",
   "execution_count": 30,
   "id": "92b76da4",
   "metadata": {},
   "outputs": [],
   "source": [
    "def expectation(counts):\n",
    "    total = sum(counts.values())\n",
    "    e = 0\n",
    "    for outcome, count in counts.items():\n",
    "        a, b = int(outcome[1]), int(outcome[0])  # Qiskit: bit 0 é o último\n",
    "        value = 1 if a == b else -1\n",
    "        e += value * count / total\n",
    "    return e"
   ]
  },
  {
   "cell_type": "code",
   "execution_count": 31,
   "id": "61f562ba",
   "metadata": {},
   "outputs": [
    {
     "name": "stdout",
     "output_type": "stream",
     "text": [
      "ZX =\n",
      "[[ 0.+0.j  1.+0.j  0.+0.j  0.+0.j]\n",
      " [ 1.+0.j  0.+0.j  0.+0.j  0.+0.j]\n",
      " [ 0.+0.j  0.+0.j -0.+0.j -1.+0.j]\n",
      " [ 0.+0.j  0.+0.j -1.+0.j -0.+0.j]]\n",
      "\n",
      "ZY =\n",
      "[[ 0.+0.j  0.-1.j  0.+0.j  0.-0.j]\n",
      " [ 0.+1.j  0.+0.j  0.+0.j  0.+0.j]\n",
      " [ 0.+0.j  0.-0.j -0.+0.j  0.+1.j]\n",
      " [ 0.+0.j  0.+0.j -0.-1.j -0.+0.j]]\n",
      "\n",
      "ZZ =\n",
      "[[ 1.+0.j  0.+0.j  0.+0.j  0.+0.j]\n",
      " [ 0.+0.j -1.+0.j  0.+0.j -0.+0.j]\n",
      " [ 0.+0.j  0.+0.j -1.+0.j -0.+0.j]\n",
      " [ 0.+0.j -0.+0.j -0.+0.j  1.-0.j]]\n",
      "\n",
      "XX =\n",
      "[[0.+0.j 0.+0.j 0.+0.j 1.+0.j]\n",
      " [0.+0.j 0.+0.j 1.+0.j 0.+0.j]\n",
      " [0.+0.j 1.+0.j 0.+0.j 0.+0.j]\n",
      " [1.+0.j 0.+0.j 0.+0.j 0.+0.j]]\n",
      "\n",
      "XY =\n",
      "[[0.+0.j 0.-0.j 0.+0.j 0.-1.j]\n",
      " [0.+0.j 0.+0.j 0.+1.j 0.+0.j]\n",
      " [0.+0.j 0.-1.j 0.+0.j 0.-0.j]\n",
      " [0.+1.j 0.+0.j 0.+0.j 0.+0.j]]\n",
      "\n",
      "XZ =\n",
      "[[ 0.+0.j  0.+0.j  1.+0.j  0.+0.j]\n",
      " [ 0.+0.j -0.+0.j  0.+0.j -1.+0.j]\n",
      " [ 1.+0.j  0.+0.j  0.+0.j  0.+0.j]\n",
      " [ 0.+0.j -1.+0.j  0.+0.j -0.+0.j]]\n",
      "\n",
      "YX =\n",
      "[[0.+0.j 0.+0.j 0.-0.j 0.-1.j]\n",
      " [0.+0.j 0.+0.j 0.-1.j 0.-0.j]\n",
      " [0.+0.j 0.+1.j 0.+0.j 0.+0.j]\n",
      " [0.+1.j 0.+0.j 0.+0.j 0.+0.j]]\n",
      "\n",
      "YY =\n",
      "[[ 0.+0.j  0.-0.j  0.-0.j -1.+0.j]\n",
      " [ 0.+0.j  0.+0.j  1.-0.j  0.-0.j]\n",
      " [ 0.+0.j  1.-0.j  0.+0.j  0.-0.j]\n",
      " [-1.+0.j  0.+0.j  0.+0.j  0.+0.j]]\n",
      "\n",
      "YZ =\n",
      "[[ 0.+0.j  0.+0.j  0.-1.j  0.-0.j]\n",
      " [ 0.+0.j -0.+0.j  0.-0.j  0.+1.j]\n",
      " [ 0.+1.j  0.+0.j  0.+0.j  0.+0.j]\n",
      " [ 0.+0.j -0.-1.j  0.+0.j -0.+0.j]]\n",
      "\n"
     ]
    }
   ],
   "source": [
    "Bell = QuantumCircuit(2)\n",
    "Bell.h(0)\n",
    "Bell.cx(0,1)\n",
    "Bell.barrier()\n",
    "\"\"\"Bell.ry(-pi/2,0)\n",
    "Bell.ry(-pi/2,1)\"\"\"\n",
    "Bell.draw('mpl')\n",
    "\n",
    "import numpy as np\n",
    "\n",
    "# Matrizes de Pauli\n",
    "I = np.array([[1, 0], [0, 1]], dtype=complex)\n",
    "X = np.array([[0, 1], [1, 0]], dtype=complex)\n",
    "Y = np.array([[0, -1j], [1j, 0]], dtype=complex)\n",
    "Z = np.array([[1, 0], [0, -1]], dtype=complex)\n",
    "\n",
    "# Dicionário de portas\n",
    "pauli_dict = {\n",
    "    'I': I,\n",
    "    'X': X,\n",
    "    'Y': Y,\n",
    "    'Z': Z\n",
    "}\n",
    "\n",
    "# Lista de combinações\n",
    "combined = ['ZX','ZY','ZZ',\n",
    "            'XX','XY','XZ',\n",
    "            'YX','YY','YZ']\n",
    "\n",
    "# Produto de Kronecker\n",
    "tensor_products = {}\n",
    "\n",
    "for label in combined:\n",
    "    A = pauli_dict[label[0]]\n",
    "    B = pauli_dict[label[1]]\n",
    "    kron_product = np.kron(A, B)\n",
    "    tensor_products[label] = kron_product\n",
    "    print(f\"{label} =\\n{kron_product}\\n\")\n"
   ]
  },
  {
   "cell_type": "code",
   "execution_count": 32,
   "id": "a1434250",
   "metadata": {},
   "outputs": [],
   "source": [
    "backend = AerSimulator()"
   ]
  },
  {
   "cell_type": "code",
   "execution_count": 33,
   "id": "70e47d36",
   "metadata": {},
   "outputs": [],
   "source": [
    "def tomography(circuit, target_1, target_2, shots):\n",
    "    from qiskit import ClassicalRegister, transpile\n",
    "\n",
    "    combined = ['IZ', 'IX', 'IY',\n",
    "                'ZI', 'XI', 'YI',\n",
    "                'ZX','ZY','ZZ',\n",
    "                'XX','XY','XZ',\n",
    "                'YX','YY','YZ']\n",
    "\n",
    "    result = {}\n",
    "\n",
    "    for base in combined:\n",
    "        circ = circuit.copy()\n",
    "        creg = ClassicalRegister(2)\n",
    "        circ.add_register(creg)\n",
    "\n",
    "        # Para o primeiro qubit\n",
    "        if base[0] == 'X':\n",
    "            circ.h(target_1)\n",
    "        elif base[0] == 'Y':\n",
    "            circ.sdg(target_1)\n",
    "            circ.h(target_1)\n",
    "        elif base[0] == 'I':\n",
    "            # identidade, nenhuma operação\n",
    "            pass\n",
    "        elif base[0] == 'Z':\n",
    "            # base Z, nenhuma operação (medida padrão)\n",
    "            pass\n",
    "\n",
    "        # Para o segundo qubit\n",
    "        if base[1] == 'X':\n",
    "            circ.h(target_2)\n",
    "        elif base[1] == 'Y':\n",
    "            circ.sdg(target_2)\n",
    "            circ.h(target_2)\n",
    "        elif base[1] == 'I':\n",
    "            # identidade, nenhuma operação\n",
    "            pass\n",
    "        elif base[1] == 'Z':\n",
    "            # base Z, nenhuma operação\n",
    "            pass\n",
    "\n",
    "        circ.measure(target_1, creg[0])\n",
    "        circ.measure(target_2, creg[1])\n",
    "\n",
    "        transpiled = transpile(circ, backend)\n",
    "        job = backend.run(transpiled, shots=shots)\n",
    "        counts = job.result().get_counts()\n",
    "        result[base] = counts\n",
    "\n",
    "    E = {label: expectation(c) for label, c in result.items()}\n",
    "    return E\n"
   ]
  },
  {
   "cell_type": "code",
   "execution_count": 34,
   "id": "a3aa2f2f",
   "metadata": {},
   "outputs": [],
   "source": [
    "import numpy as np\n",
    "\n",
    "# Matrizes de Pauli\n",
    "I = np.array([[1, 0], [0, 1]], dtype=complex)\n",
    "X = np.array([[0, 1], [1, 0]], dtype=complex)\n",
    "Y = np.array([[0, -1j], [1j, 0]], dtype=complex)\n",
    "Z = np.array([[1, 0], [0, -1]], dtype=complex)\n",
    "\n",
    "paulis = {'I': I, 'X': X, 'Y': Y, 'Z': Z}\n",
    "\n",
    "def reconstruct_density_matrix(expectations):\n",
    "    rho = np.zeros((4,4), dtype=complex)\n",
    "\n",
    "    # Identidade tem expectativa 1\n",
    "    rho += 0.25 * np.kron(I, I)\n",
    "\n",
    "    # Só as combinações medidas (9 bases), considerando 'I' onde não há\n",
    "    # Nosso dicionário expectations tem chaves como 'ZX', 'ZY', etc\n",
    "    for label, val in expectations.items():\n",
    "        i, j = label[0], label[1]\n",
    "        rho += 0.25 * val * np.kron(paulis[i], paulis[j])\n",
    "\n",
    "    return rho\n"
   ]
  },
  {
   "cell_type": "code",
   "execution_count": 35,
   "id": "dc342ae3",
   "metadata": {},
   "outputs": [
    {
     "name": "stdout",
     "output_type": "stream",
     "text": [
      "Matriz densidade reconstruída:\n",
      " [[ 1.00e+00+0.j      5.00e-04+0.005j  -1.25e-02+0.0005j  5.00e-01+0.001j ]\n",
      " [ 5.00e-04-0.005j   0.00e+00+0.j      0.00e+00-0.006j  -7.50e-03+0.0265j]\n",
      " [-1.25e-02-0.0005j  0.00e+00+0.006j   0.00e+00+0.j     -3.50e-03+0.005j ]\n",
      " [ 5.00e-01-0.001j  -7.50e-03-0.0265j -3.50e-03-0.005j   0.00e+00+0.j    ]]\n",
      "{'IZ': 1.0, 'IX': -0.006000000000000005, 'IY': -0.020000000000000018, 'ZI': 1.0, 'XI': -0.040000000000000036, 'YI': -0.05400000000000002, 'ZX': 0.008000000000000035, 'ZY': -2.7755575615628914e-17, 'ZZ': 1.0, 'XX': 1.0, 'XY': -0.014000000000000012, 'XZ': -0.010000000000000009, 'YX': 0.010000000000000009, 'YY': -1.0, 'YZ': 0.05200000000000002}\n"
     ]
    }
   ],
   "source": [
    "tomo = tomography(circuit=Bell, target_1=0, target_2=1, shots=1000)\n",
    "\n",
    "rho = reconstruct_density_matrix(tomo)\n",
    "\n",
    "print(\"Matriz densidade reconstruída:\\n\", rho)\n",
    "print(tomo)\n"
   ]
  },
  {
   "cell_type": "code",
   "execution_count": 36,
   "id": "c1bc2de1",
   "metadata": {},
   "outputs": [
    {
     "data": {
      "image/png": "[encoded data removed]",
      "text/plain": [
       "<Figure size 370.906x200.667 with 1 Axes>"
      ]
     },
     "execution_count": 36,
     "metadata": {},
     "output_type": "execute_result"
    }
   ],
   "source": [
    "Bell.draw('mpl')"
   ]
  }
 ],
 "metadata": {
  "kernelspec": {
   "display_name": "cwq",
   "language": "python",
   "name": "python3"
  },
  "language_info": {
   "codemirror_mode": {
    "name": "ipython",
    "version": 3
   },
   "file_extension": ".py",
   "mimetype": "text/x-python",
   "name": "python",
   "nbconvert_exporter": "python",
   "pygments_lexer": "ipython3",
   "version": "3.13.2"
  }
 },
 "nbformat": 4,
 "nbformat_minor": 5
}
