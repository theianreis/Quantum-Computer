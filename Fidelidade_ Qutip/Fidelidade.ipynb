{
 "cells": [
  {
   "cell_type": "code",
   "execution_count": null,
   "id": "f427e15c",
   "metadata": {},
   "outputs": [],
   "source": [
    "from qutip import (basis,sigmax, sigmaz, qeye, fidelity,ket2dm)\n",
    "from qutip_qip"
   ]
  },
  {
   "cell_type": "code",
   "execution_count": 4,
   "id": "edd7333e",
   "metadata": {},
   "outputs": [
    {
     "name": "stdout",
     "output_type": "stream",
     "text": [
      "Fidelidade entre |0> e |1>:  0.0\n"
     ]
    }
   ],
   "source": [
    "## Medindo Fidelidade\n",
    "\n",
    "## Definindo ket 0 e ket 1\n",
    "psi_0 = basis(2,0)\n",
    "psi_1 = basis(2,1)\n",
    "\n",
    "## Fidelidade \n",
    "fidelity = fidelity(psi_0,psi_1)\n",
    "print(\"Fidelidade entre |0> e |1>: \",fidelity)"
   ]
  },
  {
   "cell_type": "code",
   "execution_count": null,
   "id": "d4a2d111",
   "metadata": {},
   "outputs": [],
   "source": []
  }
 ],
 "metadata": {
  "kernelspec": {
   "display_name": "cwq",
   "language": "python",
   "name": "python3"
  },
  "language_info": {
   "codemirror_mode": {
    "name": "ipython",
    "version": 3
   },
   "file_extension": ".py",
   "mimetype": "text/x-python",
   "name": "python",
   "nbconvert_exporter": "python",
   "pygments_lexer": "ipython3",
   "version": "3.13.2"
  }
 },
 "nbformat": 4,
 "nbformat_minor": 5
}
