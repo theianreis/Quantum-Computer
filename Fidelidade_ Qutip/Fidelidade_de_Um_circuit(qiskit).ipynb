{
 "cells": [
  {
   "cell_type": "code",
   "execution_count": 8,
   "id": "4f1d3c63",
   "metadata": {},
   "outputs": [],
   "source": [
    "from qiskit import QuantumCircuit\n",
    "from qiskit.quantum_info import Statevector,DensityMatrix\n",
    "from qutip import Qobj,basis,fidelity\n"
   ]
  },
  {
   "cell_type": "code",
   "execution_count": 13,
   "id": "5c40f7ea",
   "metadata": {},
   "outputs": [
    {
     "name": "stdout",
     "output_type": "stream",
     "text": [
      "[0.70710678+0.j 0.70710678+0.j]\n"
     ]
    }
   ],
   "source": [
    "circuit = QuantumCircuit(1)\n",
    "circuit.h(0)\n",
    "\n",
    "state = Statevector.from_instruction(circuit)\n",
    "print(state.data)"
   ]
  },
  {
   "cell_type": "code",
   "execution_count": 4,
   "id": "d29d00f4",
   "metadata": {},
   "outputs": [],
   "source": [
    "qutip_state = Qobj(state.data, dims=[[2], [1]])"
   ]
  },
  {
   "cell_type": "code",
   "execution_count": 5,
   "id": "6029112f",
   "metadata": {},
   "outputs": [],
   "source": [
    "rho = DensityMatrix.from_instruction(circuit)\n",
    "qutip_rho = Qobj(rho.data, dims=[[2], [2]])"
   ]
  },
  {
   "cell_type": "code",
   "execution_count": 6,
   "id": "6ab1cc1c",
   "metadata": {},
   "outputs": [],
   "source": [
    "ideal = (basis(2, 0) + basis(2, 1)).unit()"
   ]
  },
  {
   "cell_type": "code",
   "execution_count": 10,
   "id": "9b616659",
   "metadata": {},
   "outputs": [
    {
     "name": "stdout",
     "output_type": "stream",
     "text": [
      "Fidelidade: 0.9999999999999998\n"
     ]
    }
   ],
   "source": [
    "fid = fidelity(qutip_state, ideal)\n",
    "print(f\"Fidelidade: {fid}\")"
   ]
  },
  {
   "cell_type": "code",
   "execution_count": 12,
   "id": "9f2ad268",
   "metadata": {},
   "outputs": [
    {
     "name": "stdout",
     "output_type": "stream",
     "text": [
      "Fidelidade: 1.0000000052683549\n"
     ]
    }
   ],
   "source": [
    "fid = fidelity(qutip_rho, ideal.proj())\n",
    "print(f\"Fidelidade: {fid}\")"
   ]
  }
 ],
 "metadata": {
  "kernelspec": {
   "display_name": "cwq",
   "language": "python",
   "name": "python3"
  },
  "language_info": {
   "codemirror_mode": {
    "name": "ipython",
    "version": 3
   },
   "file_extension": ".py",
   "mimetype": "text/x-python",
   "name": "python",
   "nbconvert_exporter": "python",
   "pygments_lexer": "ipython3",
   "version": "3.13.2"
  }
 },
 "nbformat": 4,
 "nbformat_minor": 5
}
